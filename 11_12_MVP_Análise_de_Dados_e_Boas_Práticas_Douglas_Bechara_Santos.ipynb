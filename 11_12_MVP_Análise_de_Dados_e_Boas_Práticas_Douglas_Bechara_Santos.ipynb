{
  "nbformat": 4,
  "nbformat_minor": 0,
  "metadata": {
    "colab": {
      "provenance": [],
      "collapsed_sections": [
        "g60p8-LdGabT",
        "p334ScdR5huh",
        "Q2rtyvQg5tJF",
        "Ovx90-dy3odB",
        "GrVn-V-cASYx",
        "B1hFeqDXI2wB",
        "zCTa_1S7DrNV",
        "jA4yFG0lG3UR",
        "2luan6Ty5VHC",
        "ULazsY-FAvNg",
        "rMqiRnPqvjQY",
        "LtI1TPmSE7oo",
        "K4qP01kLax0d",
        "oXDxF1opThNY"
      ],
      "authorship_tag": "ABX9TyO+aEeB8ojCCc3e4pdvfKTp",
      "include_colab_link": true
    },
    "kernelspec": {
      "name": "python3",
      "display_name": "Python 3"
    },
    "language_info": {
      "name": "python"
    }
  },
  "cells": [
    {
      "cell_type": "markdown",
      "metadata": {
        "id": "view-in-github",
        "colab_type": "text"
      },
      "source": [
        "<a href=\"https://colab.research.google.com/github/douglasbechara/Notebooks/blob/main/11_12_MVP_An%C3%A1lise_de_Dados_e_Boas_Pr%C3%A1ticas_Douglas_Bechara_Santos.ipynb\" target=\"_parent\"><img src=\"https://colab.research.google.com/assets/colab-badge.svg\" alt=\"Open In Colab\"/></a>"
      ]
    },
    {
      "cell_type": "markdown",
      "source": [
        "# **MVP da Sprint: Análise de dados e boas práticas**\n",
        "Aluno: Douglas Bechara Santos"
      ],
      "metadata": {
        "id": "kPpk6apBGGAt"
      }
    },
    {
      "cell_type": "markdown",
      "source": [
        "\n",
        "# **1. Definição do problema**\n",
        "\n",
        "\n"
      ],
      "metadata": {
        "id": "g60p8-LdGabT"
      }
    },
    {
      "cell_type": "markdown",
      "source": [
        "Possui objetivo de realizar análises em um Data Frame de dados escolares de alunos de um curso Técnico em Informática Integrado ao Ensino Médio, retirado do Sistema Integrado de Atividades Acadêmicas - SIGAA de uma instituição educacional.\n",
        "\n",
        "O Data Frame apresentado é trabalhado com dados tabulares que pode ser entendido como uma tabela que organiza os dados em linhas e colunas, criando uma estrutura de dados bidimensional e que classificamos como aprendizado supervisionado, pois os dados do Data Frame em questão possuem variáveis *target*, ou seja, nossas variáveis de interesse no conjunto de dados em questão, com isso abrimos a possibilidade de prever resultados finais\n",
        "\n",
        "O objetivo primordial foi compreender a estrutura dos dados, identificando possíveis desafios e padrões que pudessem influenciar as análises subsequentes.\n",
        "\n",
        "Diante a resposta dessas perguntas, poderemos propor possíveis soluções para cada questionamento levantado, para isso, realizaremos estudos .... onde será necessário ....\n",
        "\n",
        "Sabemos que Data Frame possui os seguintes atributos:\n",
        "* 1º Bimestre\n",
        "* 2º Bimestre\n",
        "* 3º Bimestre"
      ],
      "metadata": {
        "id": "4S-SA2U29ueB"
      }
    },
    {
      "cell_type": "markdown",
      "source": [
        "# **2. Importação de bibliotecas**"
      ],
      "metadata": {
        "id": "p334ScdR5huh"
      }
    },
    {
      "cell_type": "code",
      "source": [
        "# Importando bibliotecas\n",
        "import pandas as pd\n",
        "import matplotlib.pyplot as plt\n",
        "from mpl_toolkits.mplot3d import Axes3D\n",
        "import seaborn as sns\n",
        "import numpy as np\n",
        "from matplotlib import cm\n",
        "import missingno as ms\n"
      ],
      "metadata": {
        "id": "7KRady4b5o0z"
      },
      "execution_count": 38,
      "outputs": []
    },
    {
      "cell_type": "markdown",
      "source": [
        "# **3. Coletando dados do Github**"
      ],
      "metadata": {
        "id": "Q2rtyvQg5tJF"
      }
    },
    {
      "cell_type": "code",
      "source": [
        "df = pd.read_csv(\"https://raw.githubusercontent.com/douglasbechara/Dataset/main/notas.csv\")"
      ],
      "metadata": {
        "id": "l6WpThgx5_nC"
      },
      "execution_count": 2,
      "outputs": []
    },
    {
      "cell_type": "markdown",
      "source": [
        "# **4. Análise dos dados**"
      ],
      "metadata": {
        "id": "Ovx90-dy3odB"
      }
    },
    {
      "cell_type": "markdown",
      "source": [
        "## 4.1 Compreensão do Data Frame"
      ],
      "metadata": {
        "id": "GrVn-V-cASYx"
      }
    },
    {
      "cell_type": "markdown",
      "source": [
        "### 4.1.1 Visão geral"
      ],
      "metadata": {
        "id": "B1hFeqDXI2wB"
      }
    },
    {
      "cell_type": "code",
      "source": [
        "# Observar o tamanho do DataFrame que possui 559 linhas e 3 colunas.\n",
        "df.shape"
      ],
      "metadata": {
        "id": "AuWZtzlz35Ik",
        "colab": {
          "base_uri": "https://localhost:8080/"
        },
        "outputId": "cbddd58d-09e3-4704-df01-0a6c9b9b8973"
      },
      "execution_count": 3,
      "outputs": [
        {
          "output_type": "execute_result",
          "data": {
            "text/plain": [
              "(559, 3)"
            ]
          },
          "metadata": {},
          "execution_count": 3
        }
      ]
    },
    {
      "cell_type": "markdown",
      "source": [
        " Com objetivo de retorna uma tupla representando as dimensões do DataFrame, ou seja, o número de linhas e colunas, pode ser útil para entender o tamanho total do DataFrame e ter uma visão geral da sua estrutura.\n",
        "\n",
        " O DataFrame possui 559 linhas e 3 colunas"
      ],
      "metadata": {
        "id": "z7kKldZ6-hiZ"
      }
    },
    {
      "cell_type": "code",
      "source": [
        "# Visualização das primeiras linhas do Data Frame\n",
        "df.head()"
      ],
      "metadata": {
        "id": "h7lPs5rK4SnT",
        "colab": {
          "base_uri": "https://localhost:8080/",
          "height": 206
        },
        "outputId": "d2721e48-6ac8-4286-e261-80e02a4f2c11"
      },
      "execution_count": 4,
      "outputs": [
        {
          "output_type": "execute_result",
          "data": {
            "text/plain": [
              "   8.25  8.13  7.50\n",
              "0  10.0  10.0   9.0\n",
              "1   9.3   8.8   7.0\n",
              "2   7.0   7.0   NaN\n",
              "3  10.0   9.0  10.0\n",
              "4   9.0  10.0  10.0"
            ],
            "text/html": [
              "\n",
              "  <div id=\"df-1ac53d68-7d08-4013-9541-c1eb4e2cc6ad\" class=\"colab-df-container\">\n",
              "    <div>\n",
              "<style scoped>\n",
              "    .dataframe tbody tr th:only-of-type {\n",
              "        vertical-align: middle;\n",
              "    }\n",
              "\n",
              "    .dataframe tbody tr th {\n",
              "        vertical-align: top;\n",
              "    }\n",
              "\n",
              "    .dataframe thead th {\n",
              "        text-align: right;\n",
              "    }\n",
              "</style>\n",
              "<table border=\"1\" class=\"dataframe\">\n",
              "  <thead>\n",
              "    <tr style=\"text-align: right;\">\n",
              "      <th></th>\n",
              "      <th>8.25</th>\n",
              "      <th>8.13</th>\n",
              "      <th>7.50</th>\n",
              "    </tr>\n",
              "  </thead>\n",
              "  <tbody>\n",
              "    <tr>\n",
              "      <th>0</th>\n",
              "      <td>10.0</td>\n",
              "      <td>10.0</td>\n",
              "      <td>9.0</td>\n",
              "    </tr>\n",
              "    <tr>\n",
              "      <th>1</th>\n",
              "      <td>9.3</td>\n",
              "      <td>8.8</td>\n",
              "      <td>7.0</td>\n",
              "    </tr>\n",
              "    <tr>\n",
              "      <th>2</th>\n",
              "      <td>7.0</td>\n",
              "      <td>7.0</td>\n",
              "      <td>NaN</td>\n",
              "    </tr>\n",
              "    <tr>\n",
              "      <th>3</th>\n",
              "      <td>10.0</td>\n",
              "      <td>9.0</td>\n",
              "      <td>10.0</td>\n",
              "    </tr>\n",
              "    <tr>\n",
              "      <th>4</th>\n",
              "      <td>9.0</td>\n",
              "      <td>10.0</td>\n",
              "      <td>10.0</td>\n",
              "    </tr>\n",
              "  </tbody>\n",
              "</table>\n",
              "</div>\n",
              "    <div class=\"colab-df-buttons\">\n",
              "\n",
              "  <div class=\"colab-df-container\">\n",
              "    <button class=\"colab-df-convert\" onclick=\"convertToInteractive('df-1ac53d68-7d08-4013-9541-c1eb4e2cc6ad')\"\n",
              "            title=\"Convert this dataframe to an interactive table.\"\n",
              "            style=\"display:none;\">\n",
              "\n",
              "  <svg xmlns=\"http://www.w3.org/2000/svg\" height=\"24px\" viewBox=\"0 -960 960 960\">\n",
              "    <path d=\"M120-120v-720h720v720H120Zm60-500h600v-160H180v160Zm220 220h160v-160H400v160Zm0 220h160v-160H400v160ZM180-400h160v-160H180v160Zm440 0h160v-160H620v160ZM180-180h160v-160H180v160Zm440 0h160v-160H620v160Z\"/>\n",
              "  </svg>\n",
              "    </button>\n",
              "\n",
              "  <style>\n",
              "    .colab-df-container {\n",
              "      display:flex;\n",
              "      gap: 12px;\n",
              "    }\n",
              "\n",
              "    .colab-df-convert {\n",
              "      background-color: #E8F0FE;\n",
              "      border: none;\n",
              "      border-radius: 50%;\n",
              "      cursor: pointer;\n",
              "      display: none;\n",
              "      fill: #1967D2;\n",
              "      height: 32px;\n",
              "      padding: 0 0 0 0;\n",
              "      width: 32px;\n",
              "    }\n",
              "\n",
              "    .colab-df-convert:hover {\n",
              "      background-color: #E2EBFA;\n",
              "      box-shadow: 0px 1px 2px rgba(60, 64, 67, 0.3), 0px 1px 3px 1px rgba(60, 64, 67, 0.15);\n",
              "      fill: #174EA6;\n",
              "    }\n",
              "\n",
              "    .colab-df-buttons div {\n",
              "      margin-bottom: 4px;\n",
              "    }\n",
              "\n",
              "    [theme=dark] .colab-df-convert {\n",
              "      background-color: #3B4455;\n",
              "      fill: #D2E3FC;\n",
              "    }\n",
              "\n",
              "    [theme=dark] .colab-df-convert:hover {\n",
              "      background-color: #434B5C;\n",
              "      box-shadow: 0px 1px 3px 1px rgba(0, 0, 0, 0.15);\n",
              "      filter: drop-shadow(0px 1px 2px rgba(0, 0, 0, 0.3));\n",
              "      fill: #FFFFFF;\n",
              "    }\n",
              "  </style>\n",
              "\n",
              "    <script>\n",
              "      const buttonEl =\n",
              "        document.querySelector('#df-1ac53d68-7d08-4013-9541-c1eb4e2cc6ad button.colab-df-convert');\n",
              "      buttonEl.style.display =\n",
              "        google.colab.kernel.accessAllowed ? 'block' : 'none';\n",
              "\n",
              "      async function convertToInteractive(key) {\n",
              "        const element = document.querySelector('#df-1ac53d68-7d08-4013-9541-c1eb4e2cc6ad');\n",
              "        const dataTable =\n",
              "          await google.colab.kernel.invokeFunction('convertToInteractive',\n",
              "                                                    [key], {});\n",
              "        if (!dataTable) return;\n",
              "\n",
              "        const docLinkHtml = 'Like what you see? Visit the ' +\n",
              "          '<a target=\"_blank\" href=https://colab.research.google.com/notebooks/data_table.ipynb>data table notebook</a>'\n",
              "          + ' to learn more about interactive tables.';\n",
              "        element.innerHTML = '';\n",
              "        dataTable['output_type'] = 'display_data';\n",
              "        await google.colab.output.renderOutput(dataTable, element);\n",
              "        const docLink = document.createElement('div');\n",
              "        docLink.innerHTML = docLinkHtml;\n",
              "        element.appendChild(docLink);\n",
              "      }\n",
              "    </script>\n",
              "  </div>\n",
              "\n",
              "\n",
              "<div id=\"df-c5075ec0-a964-46f3-9ca2-e8e9cc6d234b\">\n",
              "  <button class=\"colab-df-quickchart\" onclick=\"quickchart('df-c5075ec0-a964-46f3-9ca2-e8e9cc6d234b')\"\n",
              "            title=\"Suggest charts\"\n",
              "            style=\"display:none;\">\n",
              "\n",
              "<svg xmlns=\"http://www.w3.org/2000/svg\" height=\"24px\"viewBox=\"0 0 24 24\"\n",
              "     width=\"24px\">\n",
              "    <g>\n",
              "        <path d=\"M19 3H5c-1.1 0-2 .9-2 2v14c0 1.1.9 2 2 2h14c1.1 0 2-.9 2-2V5c0-1.1-.9-2-2-2zM9 17H7v-7h2v7zm4 0h-2V7h2v10zm4 0h-2v-4h2v4z\"/>\n",
              "    </g>\n",
              "</svg>\n",
              "  </button>\n",
              "\n",
              "<style>\n",
              "  .colab-df-quickchart {\n",
              "      --bg-color: #E8F0FE;\n",
              "      --fill-color: #1967D2;\n",
              "      --hover-bg-color: #E2EBFA;\n",
              "      --hover-fill-color: #174EA6;\n",
              "      --disabled-fill-color: #AAA;\n",
              "      --disabled-bg-color: #DDD;\n",
              "  }\n",
              "\n",
              "  [theme=dark] .colab-df-quickchart {\n",
              "      --bg-color: #3B4455;\n",
              "      --fill-color: #D2E3FC;\n",
              "      --hover-bg-color: #434B5C;\n",
              "      --hover-fill-color: #FFFFFF;\n",
              "      --disabled-bg-color: #3B4455;\n",
              "      --disabled-fill-color: #666;\n",
              "  }\n",
              "\n",
              "  .colab-df-quickchart {\n",
              "    background-color: var(--bg-color);\n",
              "    border: none;\n",
              "    border-radius: 50%;\n",
              "    cursor: pointer;\n",
              "    display: none;\n",
              "    fill: var(--fill-color);\n",
              "    height: 32px;\n",
              "    padding: 0;\n",
              "    width: 32px;\n",
              "  }\n",
              "\n",
              "  .colab-df-quickchart:hover {\n",
              "    background-color: var(--hover-bg-color);\n",
              "    box-shadow: 0 1px 2px rgba(60, 64, 67, 0.3), 0 1px 3px 1px rgba(60, 64, 67, 0.15);\n",
              "    fill: var(--button-hover-fill-color);\n",
              "  }\n",
              "\n",
              "  .colab-df-quickchart-complete:disabled,\n",
              "  .colab-df-quickchart-complete:disabled:hover {\n",
              "    background-color: var(--disabled-bg-color);\n",
              "    fill: var(--disabled-fill-color);\n",
              "    box-shadow: none;\n",
              "  }\n",
              "\n",
              "  .colab-df-spinner {\n",
              "    border: 2px solid var(--fill-color);\n",
              "    border-color: transparent;\n",
              "    border-bottom-color: var(--fill-color);\n",
              "    animation:\n",
              "      spin 1s steps(1) infinite;\n",
              "  }\n",
              "\n",
              "  @keyframes spin {\n",
              "    0% {\n",
              "      border-color: transparent;\n",
              "      border-bottom-color: var(--fill-color);\n",
              "      border-left-color: var(--fill-color);\n",
              "    }\n",
              "    20% {\n",
              "      border-color: transparent;\n",
              "      border-left-color: var(--fill-color);\n",
              "      border-top-color: var(--fill-color);\n",
              "    }\n",
              "    30% {\n",
              "      border-color: transparent;\n",
              "      border-left-color: var(--fill-color);\n",
              "      border-top-color: var(--fill-color);\n",
              "      border-right-color: var(--fill-color);\n",
              "    }\n",
              "    40% {\n",
              "      border-color: transparent;\n",
              "      border-right-color: var(--fill-color);\n",
              "      border-top-color: var(--fill-color);\n",
              "    }\n",
              "    60% {\n",
              "      border-color: transparent;\n",
              "      border-right-color: var(--fill-color);\n",
              "    }\n",
              "    80% {\n",
              "      border-color: transparent;\n",
              "      border-right-color: var(--fill-color);\n",
              "      border-bottom-color: var(--fill-color);\n",
              "    }\n",
              "    90% {\n",
              "      border-color: transparent;\n",
              "      border-bottom-color: var(--fill-color);\n",
              "    }\n",
              "  }\n",
              "</style>\n",
              "\n",
              "  <script>\n",
              "    async function quickchart(key) {\n",
              "      const quickchartButtonEl =\n",
              "        document.querySelector('#' + key + ' button');\n",
              "      quickchartButtonEl.disabled = true;  // To prevent multiple clicks.\n",
              "      quickchartButtonEl.classList.add('colab-df-spinner');\n",
              "      try {\n",
              "        const charts = await google.colab.kernel.invokeFunction(\n",
              "            'suggestCharts', [key], {});\n",
              "      } catch (error) {\n",
              "        console.error('Error during call to suggestCharts:', error);\n",
              "      }\n",
              "      quickchartButtonEl.classList.remove('colab-df-spinner');\n",
              "      quickchartButtonEl.classList.add('colab-df-quickchart-complete');\n",
              "    }\n",
              "    (() => {\n",
              "      let quickchartButtonEl =\n",
              "        document.querySelector('#df-c5075ec0-a964-46f3-9ca2-e8e9cc6d234b button');\n",
              "      quickchartButtonEl.style.display =\n",
              "        google.colab.kernel.accessAllowed ? 'block' : 'none';\n",
              "    })();\n",
              "  </script>\n",
              "</div>\n",
              "    </div>\n",
              "  </div>\n"
            ]
          },
          "metadata": {},
          "execution_count": 4
        }
      ]
    },
    {
      "cell_type": "markdown",
      "source": [
        "O Comando tem por obejtivo retornar as primeiras linhas do DataFrame.\n",
        "\n",
        "Ajuda a dar uma rápida visão das primeiras observações no DataFrame, permitindo uma rápida inspeção dos dados iniciais.\n",
        "\n",
        "Observamos que o DataFrame não possui rótulos nas colunas.\n",
        "\n",
        "Uma informação importante é que os datos são reais e devido conhecer a história do Dataframe, sei que as notas dos alunos foram cadastradas no sistema até o 3º bimestre, pois os mesmos ainda estão cursando o ano letivo."
      ],
      "metadata": {
        "id": "gUSBvA_9spRl"
      }
    },
    {
      "cell_type": "code",
      "source": [
        "# Atribuição de rótulos para as colunas\n",
        "# Coluna 8.25 -> 1º Bimestre\n",
        "# Coluna 8.13 -> 2º Bimestre\n",
        "# Coluna 7.50 -> 3º Bimestre\n",
        "df.columns = ['1º Bimestre', '2º Bimestre', '3º Bimestre']"
      ],
      "metadata": {
        "id": "p2dERz7Ds3iJ"
      },
      "execution_count": 5,
      "outputs": []
    },
    {
      "cell_type": "markdown",
      "source": [
        "Renomeia as colunas do DataFrame.\n",
        "\n",
        "Será útil para tornar os nomes das colunas mais descritivos e facilitar a compreensão dos dados."
      ],
      "metadata": {
        "id": "6EiRI_VgjzhL"
      }
    },
    {
      "cell_type": "code",
      "source": [
        "# Visualiza as últimas linhas\n",
        "# Últimas inserções de valores no Data Frame\n",
        "df.tail()"
      ],
      "metadata": {
        "id": "6XTp5x4RCHaW",
        "colab": {
          "base_uri": "https://localhost:8080/",
          "height": 206
        },
        "outputId": "0af49495-07b3-4715-da66-75ce09cfaef7"
      },
      "execution_count": 6,
      "outputs": [
        {
          "output_type": "execute_result",
          "data": {
            "text/plain": [
              "     1º Bimestre  2º Bimestre  3º Bimestre\n",
              "554          8.0          8.0          NaN\n",
              "555          9.0          7.2          9.3\n",
              "556          9.0         10.0          9.0\n",
              "557          9.5          8.0          8.5\n",
              "558          7.5          7.7          9.0"
            ],
            "text/html": [
              "\n",
              "  <div id=\"df-23f576f7-b2e3-4b3f-b7d3-65369d026811\" class=\"colab-df-container\">\n",
              "    <div>\n",
              "<style scoped>\n",
              "    .dataframe tbody tr th:only-of-type {\n",
              "        vertical-align: middle;\n",
              "    }\n",
              "\n",
              "    .dataframe tbody tr th {\n",
              "        vertical-align: top;\n",
              "    }\n",
              "\n",
              "    .dataframe thead th {\n",
              "        text-align: right;\n",
              "    }\n",
              "</style>\n",
              "<table border=\"1\" class=\"dataframe\">\n",
              "  <thead>\n",
              "    <tr style=\"text-align: right;\">\n",
              "      <th></th>\n",
              "      <th>1º Bimestre</th>\n",
              "      <th>2º Bimestre</th>\n",
              "      <th>3º Bimestre</th>\n",
              "    </tr>\n",
              "  </thead>\n",
              "  <tbody>\n",
              "    <tr>\n",
              "      <th>554</th>\n",
              "      <td>8.0</td>\n",
              "      <td>8.0</td>\n",
              "      <td>NaN</td>\n",
              "    </tr>\n",
              "    <tr>\n",
              "      <th>555</th>\n",
              "      <td>9.0</td>\n",
              "      <td>7.2</td>\n",
              "      <td>9.3</td>\n",
              "    </tr>\n",
              "    <tr>\n",
              "      <th>556</th>\n",
              "      <td>9.0</td>\n",
              "      <td>10.0</td>\n",
              "      <td>9.0</td>\n",
              "    </tr>\n",
              "    <tr>\n",
              "      <th>557</th>\n",
              "      <td>9.5</td>\n",
              "      <td>8.0</td>\n",
              "      <td>8.5</td>\n",
              "    </tr>\n",
              "    <tr>\n",
              "      <th>558</th>\n",
              "      <td>7.5</td>\n",
              "      <td>7.7</td>\n",
              "      <td>9.0</td>\n",
              "    </tr>\n",
              "  </tbody>\n",
              "</table>\n",
              "</div>\n",
              "    <div class=\"colab-df-buttons\">\n",
              "\n",
              "  <div class=\"colab-df-container\">\n",
              "    <button class=\"colab-df-convert\" onclick=\"convertToInteractive('df-23f576f7-b2e3-4b3f-b7d3-65369d026811')\"\n",
              "            title=\"Convert this dataframe to an interactive table.\"\n",
              "            style=\"display:none;\">\n",
              "\n",
              "  <svg xmlns=\"http://www.w3.org/2000/svg\" height=\"24px\" viewBox=\"0 -960 960 960\">\n",
              "    <path d=\"M120-120v-720h720v720H120Zm60-500h600v-160H180v160Zm220 220h160v-160H400v160Zm0 220h160v-160H400v160ZM180-400h160v-160H180v160Zm440 0h160v-160H620v160ZM180-180h160v-160H180v160Zm440 0h160v-160H620v160Z\"/>\n",
              "  </svg>\n",
              "    </button>\n",
              "\n",
              "  <style>\n",
              "    .colab-df-container {\n",
              "      display:flex;\n",
              "      gap: 12px;\n",
              "    }\n",
              "\n",
              "    .colab-df-convert {\n",
              "      background-color: #E8F0FE;\n",
              "      border: none;\n",
              "      border-radius: 50%;\n",
              "      cursor: pointer;\n",
              "      display: none;\n",
              "      fill: #1967D2;\n",
              "      height: 32px;\n",
              "      padding: 0 0 0 0;\n",
              "      width: 32px;\n",
              "    }\n",
              "\n",
              "    .colab-df-convert:hover {\n",
              "      background-color: #E2EBFA;\n",
              "      box-shadow: 0px 1px 2px rgba(60, 64, 67, 0.3), 0px 1px 3px 1px rgba(60, 64, 67, 0.15);\n",
              "      fill: #174EA6;\n",
              "    }\n",
              "\n",
              "    .colab-df-buttons div {\n",
              "      margin-bottom: 4px;\n",
              "    }\n",
              "\n",
              "    [theme=dark] .colab-df-convert {\n",
              "      background-color: #3B4455;\n",
              "      fill: #D2E3FC;\n",
              "    }\n",
              "\n",
              "    [theme=dark] .colab-df-convert:hover {\n",
              "      background-color: #434B5C;\n",
              "      box-shadow: 0px 1px 3px 1px rgba(0, 0, 0, 0.15);\n",
              "      filter: drop-shadow(0px 1px 2px rgba(0, 0, 0, 0.3));\n",
              "      fill: #FFFFFF;\n",
              "    }\n",
              "  </style>\n",
              "\n",
              "    <script>\n",
              "      const buttonEl =\n",
              "        document.querySelector('#df-23f576f7-b2e3-4b3f-b7d3-65369d026811 button.colab-df-convert');\n",
              "      buttonEl.style.display =\n",
              "        google.colab.kernel.accessAllowed ? 'block' : 'none';\n",
              "\n",
              "      async function convertToInteractive(key) {\n",
              "        const element = document.querySelector('#df-23f576f7-b2e3-4b3f-b7d3-65369d026811');\n",
              "        const dataTable =\n",
              "          await google.colab.kernel.invokeFunction('convertToInteractive',\n",
              "                                                    [key], {});\n",
              "        if (!dataTable) return;\n",
              "\n",
              "        const docLinkHtml = 'Like what you see? Visit the ' +\n",
              "          '<a target=\"_blank\" href=https://colab.research.google.com/notebooks/data_table.ipynb>data table notebook</a>'\n",
              "          + ' to learn more about interactive tables.';\n",
              "        element.innerHTML = '';\n",
              "        dataTable['output_type'] = 'display_data';\n",
              "        await google.colab.output.renderOutput(dataTable, element);\n",
              "        const docLink = document.createElement('div');\n",
              "        docLink.innerHTML = docLinkHtml;\n",
              "        element.appendChild(docLink);\n",
              "      }\n",
              "    </script>\n",
              "  </div>\n",
              "\n",
              "\n",
              "<div id=\"df-e6b6f1a7-7c47-4578-979a-9a34a2f4183f\">\n",
              "  <button class=\"colab-df-quickchart\" onclick=\"quickchart('df-e6b6f1a7-7c47-4578-979a-9a34a2f4183f')\"\n",
              "            title=\"Suggest charts\"\n",
              "            style=\"display:none;\">\n",
              "\n",
              "<svg xmlns=\"http://www.w3.org/2000/svg\" height=\"24px\"viewBox=\"0 0 24 24\"\n",
              "     width=\"24px\">\n",
              "    <g>\n",
              "        <path d=\"M19 3H5c-1.1 0-2 .9-2 2v14c0 1.1.9 2 2 2h14c1.1 0 2-.9 2-2V5c0-1.1-.9-2-2-2zM9 17H7v-7h2v7zm4 0h-2V7h2v10zm4 0h-2v-4h2v4z\"/>\n",
              "    </g>\n",
              "</svg>\n",
              "  </button>\n",
              "\n",
              "<style>\n",
              "  .colab-df-quickchart {\n",
              "      --bg-color: #E8F0FE;\n",
              "      --fill-color: #1967D2;\n",
              "      --hover-bg-color: #E2EBFA;\n",
              "      --hover-fill-color: #174EA6;\n",
              "      --disabled-fill-color: #AAA;\n",
              "      --disabled-bg-color: #DDD;\n",
              "  }\n",
              "\n",
              "  [theme=dark] .colab-df-quickchart {\n",
              "      --bg-color: #3B4455;\n",
              "      --fill-color: #D2E3FC;\n",
              "      --hover-bg-color: #434B5C;\n",
              "      --hover-fill-color: #FFFFFF;\n",
              "      --disabled-bg-color: #3B4455;\n",
              "      --disabled-fill-color: #666;\n",
              "  }\n",
              "\n",
              "  .colab-df-quickchart {\n",
              "    background-color: var(--bg-color);\n",
              "    border: none;\n",
              "    border-radius: 50%;\n",
              "    cursor: pointer;\n",
              "    display: none;\n",
              "    fill: var(--fill-color);\n",
              "    height: 32px;\n",
              "    padding: 0;\n",
              "    width: 32px;\n",
              "  }\n",
              "\n",
              "  .colab-df-quickchart:hover {\n",
              "    background-color: var(--hover-bg-color);\n",
              "    box-shadow: 0 1px 2px rgba(60, 64, 67, 0.3), 0 1px 3px 1px rgba(60, 64, 67, 0.15);\n",
              "    fill: var(--button-hover-fill-color);\n",
              "  }\n",
              "\n",
              "  .colab-df-quickchart-complete:disabled,\n",
              "  .colab-df-quickchart-complete:disabled:hover {\n",
              "    background-color: var(--disabled-bg-color);\n",
              "    fill: var(--disabled-fill-color);\n",
              "    box-shadow: none;\n",
              "  }\n",
              "\n",
              "  .colab-df-spinner {\n",
              "    border: 2px solid var(--fill-color);\n",
              "    border-color: transparent;\n",
              "    border-bottom-color: var(--fill-color);\n",
              "    animation:\n",
              "      spin 1s steps(1) infinite;\n",
              "  }\n",
              "\n",
              "  @keyframes spin {\n",
              "    0% {\n",
              "      border-color: transparent;\n",
              "      border-bottom-color: var(--fill-color);\n",
              "      border-left-color: var(--fill-color);\n",
              "    }\n",
              "    20% {\n",
              "      border-color: transparent;\n",
              "      border-left-color: var(--fill-color);\n",
              "      border-top-color: var(--fill-color);\n",
              "    }\n",
              "    30% {\n",
              "      border-color: transparent;\n",
              "      border-left-color: var(--fill-color);\n",
              "      border-top-color: var(--fill-color);\n",
              "      border-right-color: var(--fill-color);\n",
              "    }\n",
              "    40% {\n",
              "      border-color: transparent;\n",
              "      border-right-color: var(--fill-color);\n",
              "      border-top-color: var(--fill-color);\n",
              "    }\n",
              "    60% {\n",
              "      border-color: transparent;\n",
              "      border-right-color: var(--fill-color);\n",
              "    }\n",
              "    80% {\n",
              "      border-color: transparent;\n",
              "      border-right-color: var(--fill-color);\n",
              "      border-bottom-color: var(--fill-color);\n",
              "    }\n",
              "    90% {\n",
              "      border-color: transparent;\n",
              "      border-bottom-color: var(--fill-color);\n",
              "    }\n",
              "  }\n",
              "</style>\n",
              "\n",
              "  <script>\n",
              "    async function quickchart(key) {\n",
              "      const quickchartButtonEl =\n",
              "        document.querySelector('#' + key + ' button');\n",
              "      quickchartButtonEl.disabled = true;  // To prevent multiple clicks.\n",
              "      quickchartButtonEl.classList.add('colab-df-spinner');\n",
              "      try {\n",
              "        const charts = await google.colab.kernel.invokeFunction(\n",
              "            'suggestCharts', [key], {});\n",
              "      } catch (error) {\n",
              "        console.error('Error during call to suggestCharts:', error);\n",
              "      }\n",
              "      quickchartButtonEl.classList.remove('colab-df-spinner');\n",
              "      quickchartButtonEl.classList.add('colab-df-quickchart-complete');\n",
              "    }\n",
              "    (() => {\n",
              "      let quickchartButtonEl =\n",
              "        document.querySelector('#df-e6b6f1a7-7c47-4578-979a-9a34a2f4183f button');\n",
              "      quickchartButtonEl.style.display =\n",
              "        google.colab.kernel.accessAllowed ? 'block' : 'none';\n",
              "    })();\n",
              "  </script>\n",
              "</div>\n",
              "    </div>\n",
              "  </div>\n"
            ]
          },
          "metadata": {},
          "execution_count": 6
        }
      ]
    },
    {
      "cell_type": "markdown",
      "source": [
        "Retorna as últimas linhas do DataFrame, fornecendo uma visão das últimas observações no DataFrame, permitindo uma rápida inspeção dos dados finais."
      ],
      "metadata": {
        "id": "vAtP7MD1j-hU"
      }
    },
    {
      "cell_type": "code",
      "source": [
        "# Pegar uma amostra das linhas para visualização\n",
        "df.sample(10)"
      ],
      "metadata": {
        "id": "qv315z9B3H41",
        "colab": {
          "base_uri": "https://localhost:8080/",
          "height": 363
        },
        "outputId": "ef8ba24f-d4b9-4a60-c457-44662939cc2d"
      },
      "execution_count": 7,
      "outputs": [
        {
          "output_type": "execute_result",
          "data": {
            "text/plain": [
              "     1º Bimestre  2º Bimestre  3º Bimestre\n",
              "69          10.0        10.00          NaN\n",
              "89           7.5         6.50         8.50\n",
              "457          9.0         6.50         6.50\n",
              "519          6.0         7.50         7.50\n",
              "334          5.0         2.50         7.20\n",
              "339         10.0         9.50        10.00\n",
              "28           8.0         8.00         8.00\n",
              "435         10.0         9.50        10.00\n",
              "502          8.5         8.50        10.00\n",
              "239          8.0         8.25         7.42"
            ],
            "text/html": [
              "\n",
              "  <div id=\"df-5eba474c-0055-463d-bd2c-46a07b6b0c7c\" class=\"colab-df-container\">\n",
              "    <div>\n",
              "<style scoped>\n",
              "    .dataframe tbody tr th:only-of-type {\n",
              "        vertical-align: middle;\n",
              "    }\n",
              "\n",
              "    .dataframe tbody tr th {\n",
              "        vertical-align: top;\n",
              "    }\n",
              "\n",
              "    .dataframe thead th {\n",
              "        text-align: right;\n",
              "    }\n",
              "</style>\n",
              "<table border=\"1\" class=\"dataframe\">\n",
              "  <thead>\n",
              "    <tr style=\"text-align: right;\">\n",
              "      <th></th>\n",
              "      <th>1º Bimestre</th>\n",
              "      <th>2º Bimestre</th>\n",
              "      <th>3º Bimestre</th>\n",
              "    </tr>\n",
              "  </thead>\n",
              "  <tbody>\n",
              "    <tr>\n",
              "      <th>69</th>\n",
              "      <td>10.0</td>\n",
              "      <td>10.00</td>\n",
              "      <td>NaN</td>\n",
              "    </tr>\n",
              "    <tr>\n",
              "      <th>89</th>\n",
              "      <td>7.5</td>\n",
              "      <td>6.50</td>\n",
              "      <td>8.50</td>\n",
              "    </tr>\n",
              "    <tr>\n",
              "      <th>457</th>\n",
              "      <td>9.0</td>\n",
              "      <td>6.50</td>\n",
              "      <td>6.50</td>\n",
              "    </tr>\n",
              "    <tr>\n",
              "      <th>519</th>\n",
              "      <td>6.0</td>\n",
              "      <td>7.50</td>\n",
              "      <td>7.50</td>\n",
              "    </tr>\n",
              "    <tr>\n",
              "      <th>334</th>\n",
              "      <td>5.0</td>\n",
              "      <td>2.50</td>\n",
              "      <td>7.20</td>\n",
              "    </tr>\n",
              "    <tr>\n",
              "      <th>339</th>\n",
              "      <td>10.0</td>\n",
              "      <td>9.50</td>\n",
              "      <td>10.00</td>\n",
              "    </tr>\n",
              "    <tr>\n",
              "      <th>28</th>\n",
              "      <td>8.0</td>\n",
              "      <td>8.00</td>\n",
              "      <td>8.00</td>\n",
              "    </tr>\n",
              "    <tr>\n",
              "      <th>435</th>\n",
              "      <td>10.0</td>\n",
              "      <td>9.50</td>\n",
              "      <td>10.00</td>\n",
              "    </tr>\n",
              "    <tr>\n",
              "      <th>502</th>\n",
              "      <td>8.5</td>\n",
              "      <td>8.50</td>\n",
              "      <td>10.00</td>\n",
              "    </tr>\n",
              "    <tr>\n",
              "      <th>239</th>\n",
              "      <td>8.0</td>\n",
              "      <td>8.25</td>\n",
              "      <td>7.42</td>\n",
              "    </tr>\n",
              "  </tbody>\n",
              "</table>\n",
              "</div>\n",
              "    <div class=\"colab-df-buttons\">\n",
              "\n",
              "  <div class=\"colab-df-container\">\n",
              "    <button class=\"colab-df-convert\" onclick=\"convertToInteractive('df-5eba474c-0055-463d-bd2c-46a07b6b0c7c')\"\n",
              "            title=\"Convert this dataframe to an interactive table.\"\n",
              "            style=\"display:none;\">\n",
              "\n",
              "  <svg xmlns=\"http://www.w3.org/2000/svg\" height=\"24px\" viewBox=\"0 -960 960 960\">\n",
              "    <path d=\"M120-120v-720h720v720H120Zm60-500h600v-160H180v160Zm220 220h160v-160H400v160Zm0 220h160v-160H400v160ZM180-400h160v-160H180v160Zm440 0h160v-160H620v160ZM180-180h160v-160H180v160Zm440 0h160v-160H620v160Z\"/>\n",
              "  </svg>\n",
              "    </button>\n",
              "\n",
              "  <style>\n",
              "    .colab-df-container {\n",
              "      display:flex;\n",
              "      gap: 12px;\n",
              "    }\n",
              "\n",
              "    .colab-df-convert {\n",
              "      background-color: #E8F0FE;\n",
              "      border: none;\n",
              "      border-radius: 50%;\n",
              "      cursor: pointer;\n",
              "      display: none;\n",
              "      fill: #1967D2;\n",
              "      height: 32px;\n",
              "      padding: 0 0 0 0;\n",
              "      width: 32px;\n",
              "    }\n",
              "\n",
              "    .colab-df-convert:hover {\n",
              "      background-color: #E2EBFA;\n",
              "      box-shadow: 0px 1px 2px rgba(60, 64, 67, 0.3), 0px 1px 3px 1px rgba(60, 64, 67, 0.15);\n",
              "      fill: #174EA6;\n",
              "    }\n",
              "\n",
              "    .colab-df-buttons div {\n",
              "      margin-bottom: 4px;\n",
              "    }\n",
              "\n",
              "    [theme=dark] .colab-df-convert {\n",
              "      background-color: #3B4455;\n",
              "      fill: #D2E3FC;\n",
              "    }\n",
              "\n",
              "    [theme=dark] .colab-df-convert:hover {\n",
              "      background-color: #434B5C;\n",
              "      box-shadow: 0px 1px 3px 1px rgba(0, 0, 0, 0.15);\n",
              "      filter: drop-shadow(0px 1px 2px rgba(0, 0, 0, 0.3));\n",
              "      fill: #FFFFFF;\n",
              "    }\n",
              "  </style>\n",
              "\n",
              "    <script>\n",
              "      const buttonEl =\n",
              "        document.querySelector('#df-5eba474c-0055-463d-bd2c-46a07b6b0c7c button.colab-df-convert');\n",
              "      buttonEl.style.display =\n",
              "        google.colab.kernel.accessAllowed ? 'block' : 'none';\n",
              "\n",
              "      async function convertToInteractive(key) {\n",
              "        const element = document.querySelector('#df-5eba474c-0055-463d-bd2c-46a07b6b0c7c');\n",
              "        const dataTable =\n",
              "          await google.colab.kernel.invokeFunction('convertToInteractive',\n",
              "                                                    [key], {});\n",
              "        if (!dataTable) return;\n",
              "\n",
              "        const docLinkHtml = 'Like what you see? Visit the ' +\n",
              "          '<a target=\"_blank\" href=https://colab.research.google.com/notebooks/data_table.ipynb>data table notebook</a>'\n",
              "          + ' to learn more about interactive tables.';\n",
              "        element.innerHTML = '';\n",
              "        dataTable['output_type'] = 'display_data';\n",
              "        await google.colab.output.renderOutput(dataTable, element);\n",
              "        const docLink = document.createElement('div');\n",
              "        docLink.innerHTML = docLinkHtml;\n",
              "        element.appendChild(docLink);\n",
              "      }\n",
              "    </script>\n",
              "  </div>\n",
              "\n",
              "\n",
              "<div id=\"df-700ffb85-100d-4ea3-9161-2c9ed478cc28\">\n",
              "  <button class=\"colab-df-quickchart\" onclick=\"quickchart('df-700ffb85-100d-4ea3-9161-2c9ed478cc28')\"\n",
              "            title=\"Suggest charts\"\n",
              "            style=\"display:none;\">\n",
              "\n",
              "<svg xmlns=\"http://www.w3.org/2000/svg\" height=\"24px\"viewBox=\"0 0 24 24\"\n",
              "     width=\"24px\">\n",
              "    <g>\n",
              "        <path d=\"M19 3H5c-1.1 0-2 .9-2 2v14c0 1.1.9 2 2 2h14c1.1 0 2-.9 2-2V5c0-1.1-.9-2-2-2zM9 17H7v-7h2v7zm4 0h-2V7h2v10zm4 0h-2v-4h2v4z\"/>\n",
              "    </g>\n",
              "</svg>\n",
              "  </button>\n",
              "\n",
              "<style>\n",
              "  .colab-df-quickchart {\n",
              "      --bg-color: #E8F0FE;\n",
              "      --fill-color: #1967D2;\n",
              "      --hover-bg-color: #E2EBFA;\n",
              "      --hover-fill-color: #174EA6;\n",
              "      --disabled-fill-color: #AAA;\n",
              "      --disabled-bg-color: #DDD;\n",
              "  }\n",
              "\n",
              "  [theme=dark] .colab-df-quickchart {\n",
              "      --bg-color: #3B4455;\n",
              "      --fill-color: #D2E3FC;\n",
              "      --hover-bg-color: #434B5C;\n",
              "      --hover-fill-color: #FFFFFF;\n",
              "      --disabled-bg-color: #3B4455;\n",
              "      --disabled-fill-color: #666;\n",
              "  }\n",
              "\n",
              "  .colab-df-quickchart {\n",
              "    background-color: var(--bg-color);\n",
              "    border: none;\n",
              "    border-radius: 50%;\n",
              "    cursor: pointer;\n",
              "    display: none;\n",
              "    fill: var(--fill-color);\n",
              "    height: 32px;\n",
              "    padding: 0;\n",
              "    width: 32px;\n",
              "  }\n",
              "\n",
              "  .colab-df-quickchart:hover {\n",
              "    background-color: var(--hover-bg-color);\n",
              "    box-shadow: 0 1px 2px rgba(60, 64, 67, 0.3), 0 1px 3px 1px rgba(60, 64, 67, 0.15);\n",
              "    fill: var(--button-hover-fill-color);\n",
              "  }\n",
              "\n",
              "  .colab-df-quickchart-complete:disabled,\n",
              "  .colab-df-quickchart-complete:disabled:hover {\n",
              "    background-color: var(--disabled-bg-color);\n",
              "    fill: var(--disabled-fill-color);\n",
              "    box-shadow: none;\n",
              "  }\n",
              "\n",
              "  .colab-df-spinner {\n",
              "    border: 2px solid var(--fill-color);\n",
              "    border-color: transparent;\n",
              "    border-bottom-color: var(--fill-color);\n",
              "    animation:\n",
              "      spin 1s steps(1) infinite;\n",
              "  }\n",
              "\n",
              "  @keyframes spin {\n",
              "    0% {\n",
              "      border-color: transparent;\n",
              "      border-bottom-color: var(--fill-color);\n",
              "      border-left-color: var(--fill-color);\n",
              "    }\n",
              "    20% {\n",
              "      border-color: transparent;\n",
              "      border-left-color: var(--fill-color);\n",
              "      border-top-color: var(--fill-color);\n",
              "    }\n",
              "    30% {\n",
              "      border-color: transparent;\n",
              "      border-left-color: var(--fill-color);\n",
              "      border-top-color: var(--fill-color);\n",
              "      border-right-color: var(--fill-color);\n",
              "    }\n",
              "    40% {\n",
              "      border-color: transparent;\n",
              "      border-right-color: var(--fill-color);\n",
              "      border-top-color: var(--fill-color);\n",
              "    }\n",
              "    60% {\n",
              "      border-color: transparent;\n",
              "      border-right-color: var(--fill-color);\n",
              "    }\n",
              "    80% {\n",
              "      border-color: transparent;\n",
              "      border-right-color: var(--fill-color);\n",
              "      border-bottom-color: var(--fill-color);\n",
              "    }\n",
              "    90% {\n",
              "      border-color: transparent;\n",
              "      border-bottom-color: var(--fill-color);\n",
              "    }\n",
              "  }\n",
              "</style>\n",
              "\n",
              "  <script>\n",
              "    async function quickchart(key) {\n",
              "      const quickchartButtonEl =\n",
              "        document.querySelector('#' + key + ' button');\n",
              "      quickchartButtonEl.disabled = true;  // To prevent multiple clicks.\n",
              "      quickchartButtonEl.classList.add('colab-df-spinner');\n",
              "      try {\n",
              "        const charts = await google.colab.kernel.invokeFunction(\n",
              "            'suggestCharts', [key], {});\n",
              "      } catch (error) {\n",
              "        console.error('Error during call to suggestCharts:', error);\n",
              "      }\n",
              "      quickchartButtonEl.classList.remove('colab-df-spinner');\n",
              "      quickchartButtonEl.classList.add('colab-df-quickchart-complete');\n",
              "    }\n",
              "    (() => {\n",
              "      let quickchartButtonEl =\n",
              "        document.querySelector('#df-700ffb85-100d-4ea3-9161-2c9ed478cc28 button');\n",
              "      quickchartButtonEl.style.display =\n",
              "        google.colab.kernel.accessAllowed ? 'block' : 'none';\n",
              "    })();\n",
              "  </script>\n",
              "</div>\n",
              "    </div>\n",
              "  </div>\n"
            ]
          },
          "metadata": {},
          "execution_count": 7
        }
      ]
    },
    {
      "cell_type": "markdown",
      "source": [
        "Retorna uma amostra aleatória de linhas do DataFrame.\n",
        "\n",
        "Útil para analisar uma pequena amostra representativa dos dados."
      ],
      "metadata": {
        "id": "bts0CsIckKhP"
      }
    },
    {
      "cell_type": "code",
      "source": [
        "# Apresenta, de forma resumida, quais os tipos de variáveis\n",
        "df.dtypes"
      ],
      "metadata": {
        "id": "en0RvubP2txK",
        "colab": {
          "base_uri": "https://localhost:8080/"
        },
        "outputId": "ba8809da-7452-4b3c-8e08-ecdd8146a21b"
      },
      "execution_count": 8,
      "outputs": [
        {
          "output_type": "execute_result",
          "data": {
            "text/plain": [
              "1º Bimestre    float64\n",
              "2º Bimestre    float64\n",
              "3º Bimestre    float64\n",
              "dtype: object"
            ]
          },
          "metadata": {},
          "execution_count": 8
        }
      ]
    },
    {
      "cell_type": "markdown",
      "source": [
        "Retorna os tipos de dados de cada coluna no DataFrame.\n",
        "\n",
        "Permite entender os tipos de dados presentes em cada coluna, essencial para garantir que os dados sejam interpretados corretamente."
      ],
      "metadata": {
        "id": "FxPqoYVRkPNO"
      }
    },
    {
      "cell_type": "code",
      "source": [
        "# Informações do dataset\n",
        "df.info()"
      ],
      "metadata": {
        "id": "N1gzdGtoipsI",
        "colab": {
          "base_uri": "https://localhost:8080/"
        },
        "outputId": "1e5ee29e-8d1d-44dd-efb7-c6d7f9e857a0"
      },
      "execution_count": 9,
      "outputs": [
        {
          "output_type": "stream",
          "name": "stdout",
          "text": [
            "<class 'pandas.core.frame.DataFrame'>\n",
            "RangeIndex: 559 entries, 0 to 558\n",
            "Data columns (total 3 columns):\n",
            " #   Column       Non-Null Count  Dtype  \n",
            "---  ------       --------------  -----  \n",
            " 0   1º Bimestre  556 non-null    float64\n",
            " 1   2º Bimestre  550 non-null    float64\n",
            " 2   3º Bimestre  408 non-null    float64\n",
            "dtypes: float64(3)\n",
            "memory usage: 13.2 KB\n"
          ]
        }
      ]
    },
    {
      "cell_type": "markdown",
      "source": [
        "Fornece informações concisas sobre o DataFrame, incluindo tipos de dados e valores não nulos.\n",
        "\n",
        "Ajuda a identificar rapidamente o tamanho do DataFrame, tipos de dados e se há valores ausentes."
      ],
      "metadata": {
        "id": "pL54MhBXkbQC"
      }
    },
    {
      "cell_type": "code",
      "source": [
        "# Estatíticas descritivas do dataset\n",
        "df.describe()"
      ],
      "metadata": {
        "id": "vKeK_0i1jIcj",
        "colab": {
          "base_uri": "https://localhost:8080/",
          "height": 300
        },
        "outputId": "37fdc69b-4920-47bc-f29e-69074b03a460"
      },
      "execution_count": 10,
      "outputs": [
        {
          "output_type": "execute_result",
          "data": {
            "text/plain": [
              "       1º Bimestre  2º Bimestre  3º Bimestre\n",
              "count   556.000000   550.000000   408.000000\n",
              "mean      7.694874     7.695891     7.661029\n",
              "std       2.404623     2.480758     2.599632\n",
              "min       0.000000     0.000000     0.000000\n",
              "25%       7.000000     7.000000     7.000000\n",
              "50%       8.240000     8.250000     8.410000\n",
              "75%       9.300000     9.375000     9.500000\n",
              "max      10.000000    10.000000    10.000000"
            ],
            "text/html": [
              "\n",
              "  <div id=\"df-a87cd60c-ec11-4994-9449-1e3c8881b3e9\" class=\"colab-df-container\">\n",
              "    <div>\n",
              "<style scoped>\n",
              "    .dataframe tbody tr th:only-of-type {\n",
              "        vertical-align: middle;\n",
              "    }\n",
              "\n",
              "    .dataframe tbody tr th {\n",
              "        vertical-align: top;\n",
              "    }\n",
              "\n",
              "    .dataframe thead th {\n",
              "        text-align: right;\n",
              "    }\n",
              "</style>\n",
              "<table border=\"1\" class=\"dataframe\">\n",
              "  <thead>\n",
              "    <tr style=\"text-align: right;\">\n",
              "      <th></th>\n",
              "      <th>1º Bimestre</th>\n",
              "      <th>2º Bimestre</th>\n",
              "      <th>3º Bimestre</th>\n",
              "    </tr>\n",
              "  </thead>\n",
              "  <tbody>\n",
              "    <tr>\n",
              "      <th>count</th>\n",
              "      <td>556.000000</td>\n",
              "      <td>550.000000</td>\n",
              "      <td>408.000000</td>\n",
              "    </tr>\n",
              "    <tr>\n",
              "      <th>mean</th>\n",
              "      <td>7.694874</td>\n",
              "      <td>7.695891</td>\n",
              "      <td>7.661029</td>\n",
              "    </tr>\n",
              "    <tr>\n",
              "      <th>std</th>\n",
              "      <td>2.404623</td>\n",
              "      <td>2.480758</td>\n",
              "      <td>2.599632</td>\n",
              "    </tr>\n",
              "    <tr>\n",
              "      <th>min</th>\n",
              "      <td>0.000000</td>\n",
              "      <td>0.000000</td>\n",
              "      <td>0.000000</td>\n",
              "    </tr>\n",
              "    <tr>\n",
              "      <th>25%</th>\n",
              "      <td>7.000000</td>\n",
              "      <td>7.000000</td>\n",
              "      <td>7.000000</td>\n",
              "    </tr>\n",
              "    <tr>\n",
              "      <th>50%</th>\n",
              "      <td>8.240000</td>\n",
              "      <td>8.250000</td>\n",
              "      <td>8.410000</td>\n",
              "    </tr>\n",
              "    <tr>\n",
              "      <th>75%</th>\n",
              "      <td>9.300000</td>\n",
              "      <td>9.375000</td>\n",
              "      <td>9.500000</td>\n",
              "    </tr>\n",
              "    <tr>\n",
              "      <th>max</th>\n",
              "      <td>10.000000</td>\n",
              "      <td>10.000000</td>\n",
              "      <td>10.000000</td>\n",
              "    </tr>\n",
              "  </tbody>\n",
              "</table>\n",
              "</div>\n",
              "    <div class=\"colab-df-buttons\">\n",
              "\n",
              "  <div class=\"colab-df-container\">\n",
              "    <button class=\"colab-df-convert\" onclick=\"convertToInteractive('df-a87cd60c-ec11-4994-9449-1e3c8881b3e9')\"\n",
              "            title=\"Convert this dataframe to an interactive table.\"\n",
              "            style=\"display:none;\">\n",
              "\n",
              "  <svg xmlns=\"http://www.w3.org/2000/svg\" height=\"24px\" viewBox=\"0 -960 960 960\">\n",
              "    <path d=\"M120-120v-720h720v720H120Zm60-500h600v-160H180v160Zm220 220h160v-160H400v160Zm0 220h160v-160H400v160ZM180-400h160v-160H180v160Zm440 0h160v-160H620v160ZM180-180h160v-160H180v160Zm440 0h160v-160H620v160Z\"/>\n",
              "  </svg>\n",
              "    </button>\n",
              "\n",
              "  <style>\n",
              "    .colab-df-container {\n",
              "      display:flex;\n",
              "      gap: 12px;\n",
              "    }\n",
              "\n",
              "    .colab-df-convert {\n",
              "      background-color: #E8F0FE;\n",
              "      border: none;\n",
              "      border-radius: 50%;\n",
              "      cursor: pointer;\n",
              "      display: none;\n",
              "      fill: #1967D2;\n",
              "      height: 32px;\n",
              "      padding: 0 0 0 0;\n",
              "      width: 32px;\n",
              "    }\n",
              "\n",
              "    .colab-df-convert:hover {\n",
              "      background-color: #E2EBFA;\n",
              "      box-shadow: 0px 1px 2px rgba(60, 64, 67, 0.3), 0px 1px 3px 1px rgba(60, 64, 67, 0.15);\n",
              "      fill: #174EA6;\n",
              "    }\n",
              "\n",
              "    .colab-df-buttons div {\n",
              "      margin-bottom: 4px;\n",
              "    }\n",
              "\n",
              "    [theme=dark] .colab-df-convert {\n",
              "      background-color: #3B4455;\n",
              "      fill: #D2E3FC;\n",
              "    }\n",
              "\n",
              "    [theme=dark] .colab-df-convert:hover {\n",
              "      background-color: #434B5C;\n",
              "      box-shadow: 0px 1px 3px 1px rgba(0, 0, 0, 0.15);\n",
              "      filter: drop-shadow(0px 1px 2px rgba(0, 0, 0, 0.3));\n",
              "      fill: #FFFFFF;\n",
              "    }\n",
              "  </style>\n",
              "\n",
              "    <script>\n",
              "      const buttonEl =\n",
              "        document.querySelector('#df-a87cd60c-ec11-4994-9449-1e3c8881b3e9 button.colab-df-convert');\n",
              "      buttonEl.style.display =\n",
              "        google.colab.kernel.accessAllowed ? 'block' : 'none';\n",
              "\n",
              "      async function convertToInteractive(key) {\n",
              "        const element = document.querySelector('#df-a87cd60c-ec11-4994-9449-1e3c8881b3e9');\n",
              "        const dataTable =\n",
              "          await google.colab.kernel.invokeFunction('convertToInteractive',\n",
              "                                                    [key], {});\n",
              "        if (!dataTable) return;\n",
              "\n",
              "        const docLinkHtml = 'Like what you see? Visit the ' +\n",
              "          '<a target=\"_blank\" href=https://colab.research.google.com/notebooks/data_table.ipynb>data table notebook</a>'\n",
              "          + ' to learn more about interactive tables.';\n",
              "        element.innerHTML = '';\n",
              "        dataTable['output_type'] = 'display_data';\n",
              "        await google.colab.output.renderOutput(dataTable, element);\n",
              "        const docLink = document.createElement('div');\n",
              "        docLink.innerHTML = docLinkHtml;\n",
              "        element.appendChild(docLink);\n",
              "      }\n",
              "    </script>\n",
              "  </div>\n",
              "\n",
              "\n",
              "<div id=\"df-19e2141d-3bd5-4e8f-b6a8-cd50d7f5825f\">\n",
              "  <button class=\"colab-df-quickchart\" onclick=\"quickchart('df-19e2141d-3bd5-4e8f-b6a8-cd50d7f5825f')\"\n",
              "            title=\"Suggest charts\"\n",
              "            style=\"display:none;\">\n",
              "\n",
              "<svg xmlns=\"http://www.w3.org/2000/svg\" height=\"24px\"viewBox=\"0 0 24 24\"\n",
              "     width=\"24px\">\n",
              "    <g>\n",
              "        <path d=\"M19 3H5c-1.1 0-2 .9-2 2v14c0 1.1.9 2 2 2h14c1.1 0 2-.9 2-2V5c0-1.1-.9-2-2-2zM9 17H7v-7h2v7zm4 0h-2V7h2v10zm4 0h-2v-4h2v4z\"/>\n",
              "    </g>\n",
              "</svg>\n",
              "  </button>\n",
              "\n",
              "<style>\n",
              "  .colab-df-quickchart {\n",
              "      --bg-color: #E8F0FE;\n",
              "      --fill-color: #1967D2;\n",
              "      --hover-bg-color: #E2EBFA;\n",
              "      --hover-fill-color: #174EA6;\n",
              "      --disabled-fill-color: #AAA;\n",
              "      --disabled-bg-color: #DDD;\n",
              "  }\n",
              "\n",
              "  [theme=dark] .colab-df-quickchart {\n",
              "      --bg-color: #3B4455;\n",
              "      --fill-color: #D2E3FC;\n",
              "      --hover-bg-color: #434B5C;\n",
              "      --hover-fill-color: #FFFFFF;\n",
              "      --disabled-bg-color: #3B4455;\n",
              "      --disabled-fill-color: #666;\n",
              "  }\n",
              "\n",
              "  .colab-df-quickchart {\n",
              "    background-color: var(--bg-color);\n",
              "    border: none;\n",
              "    border-radius: 50%;\n",
              "    cursor: pointer;\n",
              "    display: none;\n",
              "    fill: var(--fill-color);\n",
              "    height: 32px;\n",
              "    padding: 0;\n",
              "    width: 32px;\n",
              "  }\n",
              "\n",
              "  .colab-df-quickchart:hover {\n",
              "    background-color: var(--hover-bg-color);\n",
              "    box-shadow: 0 1px 2px rgba(60, 64, 67, 0.3), 0 1px 3px 1px rgba(60, 64, 67, 0.15);\n",
              "    fill: var(--button-hover-fill-color);\n",
              "  }\n",
              "\n",
              "  .colab-df-quickchart-complete:disabled,\n",
              "  .colab-df-quickchart-complete:disabled:hover {\n",
              "    background-color: var(--disabled-bg-color);\n",
              "    fill: var(--disabled-fill-color);\n",
              "    box-shadow: none;\n",
              "  }\n",
              "\n",
              "  .colab-df-spinner {\n",
              "    border: 2px solid var(--fill-color);\n",
              "    border-color: transparent;\n",
              "    border-bottom-color: var(--fill-color);\n",
              "    animation:\n",
              "      spin 1s steps(1) infinite;\n",
              "  }\n",
              "\n",
              "  @keyframes spin {\n",
              "    0% {\n",
              "      border-color: transparent;\n",
              "      border-bottom-color: var(--fill-color);\n",
              "      border-left-color: var(--fill-color);\n",
              "    }\n",
              "    20% {\n",
              "      border-color: transparent;\n",
              "      border-left-color: var(--fill-color);\n",
              "      border-top-color: var(--fill-color);\n",
              "    }\n",
              "    30% {\n",
              "      border-color: transparent;\n",
              "      border-left-color: var(--fill-color);\n",
              "      border-top-color: var(--fill-color);\n",
              "      border-right-color: var(--fill-color);\n",
              "    }\n",
              "    40% {\n",
              "      border-color: transparent;\n",
              "      border-right-color: var(--fill-color);\n",
              "      border-top-color: var(--fill-color);\n",
              "    }\n",
              "    60% {\n",
              "      border-color: transparent;\n",
              "      border-right-color: var(--fill-color);\n",
              "    }\n",
              "    80% {\n",
              "      border-color: transparent;\n",
              "      border-right-color: var(--fill-color);\n",
              "      border-bottom-color: var(--fill-color);\n",
              "    }\n",
              "    90% {\n",
              "      border-color: transparent;\n",
              "      border-bottom-color: var(--fill-color);\n",
              "    }\n",
              "  }\n",
              "</style>\n",
              "\n",
              "  <script>\n",
              "    async function quickchart(key) {\n",
              "      const quickchartButtonEl =\n",
              "        document.querySelector('#' + key + ' button');\n",
              "      quickchartButtonEl.disabled = true;  // To prevent multiple clicks.\n",
              "      quickchartButtonEl.classList.add('colab-df-spinner');\n",
              "      try {\n",
              "        const charts = await google.colab.kernel.invokeFunction(\n",
              "            'suggestCharts', [key], {});\n",
              "      } catch (error) {\n",
              "        console.error('Error during call to suggestCharts:', error);\n",
              "      }\n",
              "      quickchartButtonEl.classList.remove('colab-df-spinner');\n",
              "      quickchartButtonEl.classList.add('colab-df-quickchart-complete');\n",
              "    }\n",
              "    (() => {\n",
              "      let quickchartButtonEl =\n",
              "        document.querySelector('#df-19e2141d-3bd5-4e8f-b6a8-cd50d7f5825f button');\n",
              "      quickchartButtonEl.style.display =\n",
              "        google.colab.kernel.accessAllowed ? 'block' : 'none';\n",
              "    })();\n",
              "  </script>\n",
              "</div>\n",
              "    </div>\n",
              "  </div>\n"
            ]
          },
          "metadata": {},
          "execution_count": 10
        }
      ]
    },
    {
      "cell_type": "markdown",
      "source": [
        "Gera estatísticas descritivas para colunas numéricas no DataFrame.\n",
        "\n",
        "Oferece uma visão estatística resumida, incluindo média, desvio padrão, mínimo, máximo e quartis."
      ],
      "metadata": {
        "id": "7xRVm2jVkklp"
      }
    },
    {
      "cell_type": "code",
      "source": [
        "# Resumo estatístico das variáveis que interessam\n",
        "\n",
        "# Colunas:\n",
        "# df.iloc[:,0] -> Todos os dados da primeira coluna do dataset\n",
        "# df.iloc[0:5,-1] -> Do primeiro ao quinto dado da última coluna\n",
        "df.iloc[:,0].describe()"
      ],
      "metadata": {
        "id": "HJwR3ctqDS8F",
        "colab": {
          "base_uri": "https://localhost:8080/"
        },
        "outputId": "07a4d1a2-e583-4a07-ceba-e074f5708011"
      },
      "execution_count": 11,
      "outputs": [
        {
          "output_type": "execute_result",
          "data": {
            "text/plain": [
              "count    556.000000\n",
              "mean       7.694874\n",
              "std        2.404623\n",
              "min        0.000000\n",
              "25%        7.000000\n",
              "50%        8.240000\n",
              "75%        9.300000\n",
              "max       10.000000\n",
              "Name: 1º Bimestre, dtype: float64"
            ]
          },
          "metadata": {},
          "execution_count": 11
        }
      ]
    },
    {
      "cell_type": "markdown",
      "source": [
        "Descreve estatísticas para uma coluna específica usando indexação baseada em posição.\n",
        "\n",
        "Útil para obter estatísticas específicas para uma única coluna."
      ],
      "metadata": {
        "id": "qHVASAXEksyF"
      }
    },
    {
      "cell_type": "code",
      "source": [
        "# Seleção de múltiplas linhas e colunas:\n",
        "#df.iloc[0:3] # resgatando as primeiras três linhas do dataset\n",
        "#df.iloc[:, 1:3] # todos os dados da segunda e terceira coluna\n",
        "df.iloc[[0,2,4], 1:3] # 1º,3º e 5º elementos e 2ª a 3ª colunas"
      ],
      "metadata": {
        "id": "JU-AC521nuJP",
        "outputId": "218f21c2-225d-4d50-e50a-97e93ace8843",
        "colab": {
          "base_uri": "https://localhost:8080/",
          "height": 143
        }
      },
      "execution_count": 12,
      "outputs": [
        {
          "output_type": "execute_result",
          "data": {
            "text/plain": [
              "   2º Bimestre  3º Bimestre\n",
              "0         10.0          9.0\n",
              "2          7.0          NaN\n",
              "4         10.0         10.0"
            ],
            "text/html": [
              "\n",
              "  <div id=\"df-d2416a2d-43b5-4d54-8e81-cd56aa162439\" class=\"colab-df-container\">\n",
              "    <div>\n",
              "<style scoped>\n",
              "    .dataframe tbody tr th:only-of-type {\n",
              "        vertical-align: middle;\n",
              "    }\n",
              "\n",
              "    .dataframe tbody tr th {\n",
              "        vertical-align: top;\n",
              "    }\n",
              "\n",
              "    .dataframe thead th {\n",
              "        text-align: right;\n",
              "    }\n",
              "</style>\n",
              "<table border=\"1\" class=\"dataframe\">\n",
              "  <thead>\n",
              "    <tr style=\"text-align: right;\">\n",
              "      <th></th>\n",
              "      <th>2º Bimestre</th>\n",
              "      <th>3º Bimestre</th>\n",
              "    </tr>\n",
              "  </thead>\n",
              "  <tbody>\n",
              "    <tr>\n",
              "      <th>0</th>\n",
              "      <td>10.0</td>\n",
              "      <td>9.0</td>\n",
              "    </tr>\n",
              "    <tr>\n",
              "      <th>2</th>\n",
              "      <td>7.0</td>\n",
              "      <td>NaN</td>\n",
              "    </tr>\n",
              "    <tr>\n",
              "      <th>4</th>\n",
              "      <td>10.0</td>\n",
              "      <td>10.0</td>\n",
              "    </tr>\n",
              "  </tbody>\n",
              "</table>\n",
              "</div>\n",
              "    <div class=\"colab-df-buttons\">\n",
              "\n",
              "  <div class=\"colab-df-container\">\n",
              "    <button class=\"colab-df-convert\" onclick=\"convertToInteractive('df-d2416a2d-43b5-4d54-8e81-cd56aa162439')\"\n",
              "            title=\"Convert this dataframe to an interactive table.\"\n",
              "            style=\"display:none;\">\n",
              "\n",
              "  <svg xmlns=\"http://www.w3.org/2000/svg\" height=\"24px\" viewBox=\"0 -960 960 960\">\n",
              "    <path d=\"M120-120v-720h720v720H120Zm60-500h600v-160H180v160Zm220 220h160v-160H400v160Zm0 220h160v-160H400v160ZM180-400h160v-160H180v160Zm440 0h160v-160H620v160ZM180-180h160v-160H180v160Zm440 0h160v-160H620v160Z\"/>\n",
              "  </svg>\n",
              "    </button>\n",
              "\n",
              "  <style>\n",
              "    .colab-df-container {\n",
              "      display:flex;\n",
              "      gap: 12px;\n",
              "    }\n",
              "\n",
              "    .colab-df-convert {\n",
              "      background-color: #E8F0FE;\n",
              "      border: none;\n",
              "      border-radius: 50%;\n",
              "      cursor: pointer;\n",
              "      display: none;\n",
              "      fill: #1967D2;\n",
              "      height: 32px;\n",
              "      padding: 0 0 0 0;\n",
              "      width: 32px;\n",
              "    }\n",
              "\n",
              "    .colab-df-convert:hover {\n",
              "      background-color: #E2EBFA;\n",
              "      box-shadow: 0px 1px 2px rgba(60, 64, 67, 0.3), 0px 1px 3px 1px rgba(60, 64, 67, 0.15);\n",
              "      fill: #174EA6;\n",
              "    }\n",
              "\n",
              "    .colab-df-buttons div {\n",
              "      margin-bottom: 4px;\n",
              "    }\n",
              "\n",
              "    [theme=dark] .colab-df-convert {\n",
              "      background-color: #3B4455;\n",
              "      fill: #D2E3FC;\n",
              "    }\n",
              "\n",
              "    [theme=dark] .colab-df-convert:hover {\n",
              "      background-color: #434B5C;\n",
              "      box-shadow: 0px 1px 3px 1px rgba(0, 0, 0, 0.15);\n",
              "      filter: drop-shadow(0px 1px 2px rgba(0, 0, 0, 0.3));\n",
              "      fill: #FFFFFF;\n",
              "    }\n",
              "  </style>\n",
              "\n",
              "    <script>\n",
              "      const buttonEl =\n",
              "        document.querySelector('#df-d2416a2d-43b5-4d54-8e81-cd56aa162439 button.colab-df-convert');\n",
              "      buttonEl.style.display =\n",
              "        google.colab.kernel.accessAllowed ? 'block' : 'none';\n",
              "\n",
              "      async function convertToInteractive(key) {\n",
              "        const element = document.querySelector('#df-d2416a2d-43b5-4d54-8e81-cd56aa162439');\n",
              "        const dataTable =\n",
              "          await google.colab.kernel.invokeFunction('convertToInteractive',\n",
              "                                                    [key], {});\n",
              "        if (!dataTable) return;\n",
              "\n",
              "        const docLinkHtml = 'Like what you see? Visit the ' +\n",
              "          '<a target=\"_blank\" href=https://colab.research.google.com/notebooks/data_table.ipynb>data table notebook</a>'\n",
              "          + ' to learn more about interactive tables.';\n",
              "        element.innerHTML = '';\n",
              "        dataTable['output_type'] = 'display_data';\n",
              "        await google.colab.output.renderOutput(dataTable, element);\n",
              "        const docLink = document.createElement('div');\n",
              "        docLink.innerHTML = docLinkHtml;\n",
              "        element.appendChild(docLink);\n",
              "      }\n",
              "    </script>\n",
              "  </div>\n",
              "\n",
              "\n",
              "<div id=\"df-6f6d7a07-0d88-4a98-9e42-03d06ade4927\">\n",
              "  <button class=\"colab-df-quickchart\" onclick=\"quickchart('df-6f6d7a07-0d88-4a98-9e42-03d06ade4927')\"\n",
              "            title=\"Suggest charts\"\n",
              "            style=\"display:none;\">\n",
              "\n",
              "<svg xmlns=\"http://www.w3.org/2000/svg\" height=\"24px\"viewBox=\"0 0 24 24\"\n",
              "     width=\"24px\">\n",
              "    <g>\n",
              "        <path d=\"M19 3H5c-1.1 0-2 .9-2 2v14c0 1.1.9 2 2 2h14c1.1 0 2-.9 2-2V5c0-1.1-.9-2-2-2zM9 17H7v-7h2v7zm4 0h-2V7h2v10zm4 0h-2v-4h2v4z\"/>\n",
              "    </g>\n",
              "</svg>\n",
              "  </button>\n",
              "\n",
              "<style>\n",
              "  .colab-df-quickchart {\n",
              "      --bg-color: #E8F0FE;\n",
              "      --fill-color: #1967D2;\n",
              "      --hover-bg-color: #E2EBFA;\n",
              "      --hover-fill-color: #174EA6;\n",
              "      --disabled-fill-color: #AAA;\n",
              "      --disabled-bg-color: #DDD;\n",
              "  }\n",
              "\n",
              "  [theme=dark] .colab-df-quickchart {\n",
              "      --bg-color: #3B4455;\n",
              "      --fill-color: #D2E3FC;\n",
              "      --hover-bg-color: #434B5C;\n",
              "      --hover-fill-color: #FFFFFF;\n",
              "      --disabled-bg-color: #3B4455;\n",
              "      --disabled-fill-color: #666;\n",
              "  }\n",
              "\n",
              "  .colab-df-quickchart {\n",
              "    background-color: var(--bg-color);\n",
              "    border: none;\n",
              "    border-radius: 50%;\n",
              "    cursor: pointer;\n",
              "    display: none;\n",
              "    fill: var(--fill-color);\n",
              "    height: 32px;\n",
              "    padding: 0;\n",
              "    width: 32px;\n",
              "  }\n",
              "\n",
              "  .colab-df-quickchart:hover {\n",
              "    background-color: var(--hover-bg-color);\n",
              "    box-shadow: 0 1px 2px rgba(60, 64, 67, 0.3), 0 1px 3px 1px rgba(60, 64, 67, 0.15);\n",
              "    fill: var(--button-hover-fill-color);\n",
              "  }\n",
              "\n",
              "  .colab-df-quickchart-complete:disabled,\n",
              "  .colab-df-quickchart-complete:disabled:hover {\n",
              "    background-color: var(--disabled-bg-color);\n",
              "    fill: var(--disabled-fill-color);\n",
              "    box-shadow: none;\n",
              "  }\n",
              "\n",
              "  .colab-df-spinner {\n",
              "    border: 2px solid var(--fill-color);\n",
              "    border-color: transparent;\n",
              "    border-bottom-color: var(--fill-color);\n",
              "    animation:\n",
              "      spin 1s steps(1) infinite;\n",
              "  }\n",
              "\n",
              "  @keyframes spin {\n",
              "    0% {\n",
              "      border-color: transparent;\n",
              "      border-bottom-color: var(--fill-color);\n",
              "      border-left-color: var(--fill-color);\n",
              "    }\n",
              "    20% {\n",
              "      border-color: transparent;\n",
              "      border-left-color: var(--fill-color);\n",
              "      border-top-color: var(--fill-color);\n",
              "    }\n",
              "    30% {\n",
              "      border-color: transparent;\n",
              "      border-left-color: var(--fill-color);\n",
              "      border-top-color: var(--fill-color);\n",
              "      border-right-color: var(--fill-color);\n",
              "    }\n",
              "    40% {\n",
              "      border-color: transparent;\n",
              "      border-right-color: var(--fill-color);\n",
              "      border-top-color: var(--fill-color);\n",
              "    }\n",
              "    60% {\n",
              "      border-color: transparent;\n",
              "      border-right-color: var(--fill-color);\n",
              "    }\n",
              "    80% {\n",
              "      border-color: transparent;\n",
              "      border-right-color: var(--fill-color);\n",
              "      border-bottom-color: var(--fill-color);\n",
              "    }\n",
              "    90% {\n",
              "      border-color: transparent;\n",
              "      border-bottom-color: var(--fill-color);\n",
              "    }\n",
              "  }\n",
              "</style>\n",
              "\n",
              "  <script>\n",
              "    async function quickchart(key) {\n",
              "      const quickchartButtonEl =\n",
              "        document.querySelector('#' + key + ' button');\n",
              "      quickchartButtonEl.disabled = true;  // To prevent multiple clicks.\n",
              "      quickchartButtonEl.classList.add('colab-df-spinner');\n",
              "      try {\n",
              "        const charts = await google.colab.kernel.invokeFunction(\n",
              "            'suggestCharts', [key], {});\n",
              "      } catch (error) {\n",
              "        console.error('Error during call to suggestCharts:', error);\n",
              "      }\n",
              "      quickchartButtonEl.classList.remove('colab-df-spinner');\n",
              "      quickchartButtonEl.classList.add('colab-df-quickchart-complete');\n",
              "    }\n",
              "    (() => {\n",
              "      let quickchartButtonEl =\n",
              "        document.querySelector('#df-6f6d7a07-0d88-4a98-9e42-03d06ade4927 button');\n",
              "      quickchartButtonEl.style.display =\n",
              "        google.colab.kernel.accessAllowed ? 'block' : 'none';\n",
              "    })();\n",
              "  </script>\n",
              "</div>\n",
              "    </div>\n",
              "  </div>\n"
            ]
          },
          "metadata": {},
          "execution_count": 12
        }
      ]
    },
    {
      "cell_type": "markdown",
      "source": [
        "Seleciona linhas e colunas específicas usando indexação baseada em posição.\n",
        "\n",
        "Permite extrair um subconjunto específico de dados para análise."
      ],
      "metadata": {
        "id": "CX0HfU2Kk3se"
      }
    },
    {
      "cell_type": "code",
      "source": [
        "# Todos os dados de todas as colunas\n",
        "df.loc[:,:].describe()"
      ],
      "metadata": {
        "id": "A9bsLuZWoe15",
        "outputId": "5269ec77-4b2e-4dd1-e130-30ea0eba74cb",
        "colab": {
          "base_uri": "https://localhost:8080/",
          "height": 300
        }
      },
      "execution_count": 13,
      "outputs": [
        {
          "output_type": "execute_result",
          "data": {
            "text/plain": [
              "       1º Bimestre  2º Bimestre  3º Bimestre\n",
              "count   556.000000   550.000000   408.000000\n",
              "mean      7.694874     7.695891     7.661029\n",
              "std       2.404623     2.480758     2.599632\n",
              "min       0.000000     0.000000     0.000000\n",
              "25%       7.000000     7.000000     7.000000\n",
              "50%       8.240000     8.250000     8.410000\n",
              "75%       9.300000     9.375000     9.500000\n",
              "max      10.000000    10.000000    10.000000"
            ],
            "text/html": [
              "\n",
              "  <div id=\"df-bed46197-ab63-44b4-bf75-73fbec44aeea\" class=\"colab-df-container\">\n",
              "    <div>\n",
              "<style scoped>\n",
              "    .dataframe tbody tr th:only-of-type {\n",
              "        vertical-align: middle;\n",
              "    }\n",
              "\n",
              "    .dataframe tbody tr th {\n",
              "        vertical-align: top;\n",
              "    }\n",
              "\n",
              "    .dataframe thead th {\n",
              "        text-align: right;\n",
              "    }\n",
              "</style>\n",
              "<table border=\"1\" class=\"dataframe\">\n",
              "  <thead>\n",
              "    <tr style=\"text-align: right;\">\n",
              "      <th></th>\n",
              "      <th>1º Bimestre</th>\n",
              "      <th>2º Bimestre</th>\n",
              "      <th>3º Bimestre</th>\n",
              "    </tr>\n",
              "  </thead>\n",
              "  <tbody>\n",
              "    <tr>\n",
              "      <th>count</th>\n",
              "      <td>556.000000</td>\n",
              "      <td>550.000000</td>\n",
              "      <td>408.000000</td>\n",
              "    </tr>\n",
              "    <tr>\n",
              "      <th>mean</th>\n",
              "      <td>7.694874</td>\n",
              "      <td>7.695891</td>\n",
              "      <td>7.661029</td>\n",
              "    </tr>\n",
              "    <tr>\n",
              "      <th>std</th>\n",
              "      <td>2.404623</td>\n",
              "      <td>2.480758</td>\n",
              "      <td>2.599632</td>\n",
              "    </tr>\n",
              "    <tr>\n",
              "      <th>min</th>\n",
              "      <td>0.000000</td>\n",
              "      <td>0.000000</td>\n",
              "      <td>0.000000</td>\n",
              "    </tr>\n",
              "    <tr>\n",
              "      <th>25%</th>\n",
              "      <td>7.000000</td>\n",
              "      <td>7.000000</td>\n",
              "      <td>7.000000</td>\n",
              "    </tr>\n",
              "    <tr>\n",
              "      <th>50%</th>\n",
              "      <td>8.240000</td>\n",
              "      <td>8.250000</td>\n",
              "      <td>8.410000</td>\n",
              "    </tr>\n",
              "    <tr>\n",
              "      <th>75%</th>\n",
              "      <td>9.300000</td>\n",
              "      <td>9.375000</td>\n",
              "      <td>9.500000</td>\n",
              "    </tr>\n",
              "    <tr>\n",
              "      <th>max</th>\n",
              "      <td>10.000000</td>\n",
              "      <td>10.000000</td>\n",
              "      <td>10.000000</td>\n",
              "    </tr>\n",
              "  </tbody>\n",
              "</table>\n",
              "</div>\n",
              "    <div class=\"colab-df-buttons\">\n",
              "\n",
              "  <div class=\"colab-df-container\">\n",
              "    <button class=\"colab-df-convert\" onclick=\"convertToInteractive('df-bed46197-ab63-44b4-bf75-73fbec44aeea')\"\n",
              "            title=\"Convert this dataframe to an interactive table.\"\n",
              "            style=\"display:none;\">\n",
              "\n",
              "  <svg xmlns=\"http://www.w3.org/2000/svg\" height=\"24px\" viewBox=\"0 -960 960 960\">\n",
              "    <path d=\"M120-120v-720h720v720H120Zm60-500h600v-160H180v160Zm220 220h160v-160H400v160Zm0 220h160v-160H400v160ZM180-400h160v-160H180v160Zm440 0h160v-160H620v160ZM180-180h160v-160H180v160Zm440 0h160v-160H620v160Z\"/>\n",
              "  </svg>\n",
              "    </button>\n",
              "\n",
              "  <style>\n",
              "    .colab-df-container {\n",
              "      display:flex;\n",
              "      gap: 12px;\n",
              "    }\n",
              "\n",
              "    .colab-df-convert {\n",
              "      background-color: #E8F0FE;\n",
              "      border: none;\n",
              "      border-radius: 50%;\n",
              "      cursor: pointer;\n",
              "      display: none;\n",
              "      fill: #1967D2;\n",
              "      height: 32px;\n",
              "      padding: 0 0 0 0;\n",
              "      width: 32px;\n",
              "    }\n",
              "\n",
              "    .colab-df-convert:hover {\n",
              "      background-color: #E2EBFA;\n",
              "      box-shadow: 0px 1px 2px rgba(60, 64, 67, 0.3), 0px 1px 3px 1px rgba(60, 64, 67, 0.15);\n",
              "      fill: #174EA6;\n",
              "    }\n",
              "\n",
              "    .colab-df-buttons div {\n",
              "      margin-bottom: 4px;\n",
              "    }\n",
              "\n",
              "    [theme=dark] .colab-df-convert {\n",
              "      background-color: #3B4455;\n",
              "      fill: #D2E3FC;\n",
              "    }\n",
              "\n",
              "    [theme=dark] .colab-df-convert:hover {\n",
              "      background-color: #434B5C;\n",
              "      box-shadow: 0px 1px 3px 1px rgba(0, 0, 0, 0.15);\n",
              "      filter: drop-shadow(0px 1px 2px rgba(0, 0, 0, 0.3));\n",
              "      fill: #FFFFFF;\n",
              "    }\n",
              "  </style>\n",
              "\n",
              "    <script>\n",
              "      const buttonEl =\n",
              "        document.querySelector('#df-bed46197-ab63-44b4-bf75-73fbec44aeea button.colab-df-convert');\n",
              "      buttonEl.style.display =\n",
              "        google.colab.kernel.accessAllowed ? 'block' : 'none';\n",
              "\n",
              "      async function convertToInteractive(key) {\n",
              "        const element = document.querySelector('#df-bed46197-ab63-44b4-bf75-73fbec44aeea');\n",
              "        const dataTable =\n",
              "          await google.colab.kernel.invokeFunction('convertToInteractive',\n",
              "                                                    [key], {});\n",
              "        if (!dataTable) return;\n",
              "\n",
              "        const docLinkHtml = 'Like what you see? Visit the ' +\n",
              "          '<a target=\"_blank\" href=https://colab.research.google.com/notebooks/data_table.ipynb>data table notebook</a>'\n",
              "          + ' to learn more about interactive tables.';\n",
              "        element.innerHTML = '';\n",
              "        dataTable['output_type'] = 'display_data';\n",
              "        await google.colab.output.renderOutput(dataTable, element);\n",
              "        const docLink = document.createElement('div');\n",
              "        docLink.innerHTML = docLinkHtml;\n",
              "        element.appendChild(docLink);\n",
              "      }\n",
              "    </script>\n",
              "  </div>\n",
              "\n",
              "\n",
              "<div id=\"df-97a2976e-1fb8-4cda-bdba-08edb7d2d5ef\">\n",
              "  <button class=\"colab-df-quickchart\" onclick=\"quickchart('df-97a2976e-1fb8-4cda-bdba-08edb7d2d5ef')\"\n",
              "            title=\"Suggest charts\"\n",
              "            style=\"display:none;\">\n",
              "\n",
              "<svg xmlns=\"http://www.w3.org/2000/svg\" height=\"24px\"viewBox=\"0 0 24 24\"\n",
              "     width=\"24px\">\n",
              "    <g>\n",
              "        <path d=\"M19 3H5c-1.1 0-2 .9-2 2v14c0 1.1.9 2 2 2h14c1.1 0 2-.9 2-2V5c0-1.1-.9-2-2-2zM9 17H7v-7h2v7zm4 0h-2V7h2v10zm4 0h-2v-4h2v4z\"/>\n",
              "    </g>\n",
              "</svg>\n",
              "  </button>\n",
              "\n",
              "<style>\n",
              "  .colab-df-quickchart {\n",
              "      --bg-color: #E8F0FE;\n",
              "      --fill-color: #1967D2;\n",
              "      --hover-bg-color: #E2EBFA;\n",
              "      --hover-fill-color: #174EA6;\n",
              "      --disabled-fill-color: #AAA;\n",
              "      --disabled-bg-color: #DDD;\n",
              "  }\n",
              "\n",
              "  [theme=dark] .colab-df-quickchart {\n",
              "      --bg-color: #3B4455;\n",
              "      --fill-color: #D2E3FC;\n",
              "      --hover-bg-color: #434B5C;\n",
              "      --hover-fill-color: #FFFFFF;\n",
              "      --disabled-bg-color: #3B4455;\n",
              "      --disabled-fill-color: #666;\n",
              "  }\n",
              "\n",
              "  .colab-df-quickchart {\n",
              "    background-color: var(--bg-color);\n",
              "    border: none;\n",
              "    border-radius: 50%;\n",
              "    cursor: pointer;\n",
              "    display: none;\n",
              "    fill: var(--fill-color);\n",
              "    height: 32px;\n",
              "    padding: 0;\n",
              "    width: 32px;\n",
              "  }\n",
              "\n",
              "  .colab-df-quickchart:hover {\n",
              "    background-color: var(--hover-bg-color);\n",
              "    box-shadow: 0 1px 2px rgba(60, 64, 67, 0.3), 0 1px 3px 1px rgba(60, 64, 67, 0.15);\n",
              "    fill: var(--button-hover-fill-color);\n",
              "  }\n",
              "\n",
              "  .colab-df-quickchart-complete:disabled,\n",
              "  .colab-df-quickchart-complete:disabled:hover {\n",
              "    background-color: var(--disabled-bg-color);\n",
              "    fill: var(--disabled-fill-color);\n",
              "    box-shadow: none;\n",
              "  }\n",
              "\n",
              "  .colab-df-spinner {\n",
              "    border: 2px solid var(--fill-color);\n",
              "    border-color: transparent;\n",
              "    border-bottom-color: var(--fill-color);\n",
              "    animation:\n",
              "      spin 1s steps(1) infinite;\n",
              "  }\n",
              "\n",
              "  @keyframes spin {\n",
              "    0% {\n",
              "      border-color: transparent;\n",
              "      border-bottom-color: var(--fill-color);\n",
              "      border-left-color: var(--fill-color);\n",
              "    }\n",
              "    20% {\n",
              "      border-color: transparent;\n",
              "      border-left-color: var(--fill-color);\n",
              "      border-top-color: var(--fill-color);\n",
              "    }\n",
              "    30% {\n",
              "      border-color: transparent;\n",
              "      border-left-color: var(--fill-color);\n",
              "      border-top-color: var(--fill-color);\n",
              "      border-right-color: var(--fill-color);\n",
              "    }\n",
              "    40% {\n",
              "      border-color: transparent;\n",
              "      border-right-color: var(--fill-color);\n",
              "      border-top-color: var(--fill-color);\n",
              "    }\n",
              "    60% {\n",
              "      border-color: transparent;\n",
              "      border-right-color: var(--fill-color);\n",
              "    }\n",
              "    80% {\n",
              "      border-color: transparent;\n",
              "      border-right-color: var(--fill-color);\n",
              "      border-bottom-color: var(--fill-color);\n",
              "    }\n",
              "    90% {\n",
              "      border-color: transparent;\n",
              "      border-bottom-color: var(--fill-color);\n",
              "    }\n",
              "  }\n",
              "</style>\n",
              "\n",
              "  <script>\n",
              "    async function quickchart(key) {\n",
              "      const quickchartButtonEl =\n",
              "        document.querySelector('#' + key + ' button');\n",
              "      quickchartButtonEl.disabled = true;  // To prevent multiple clicks.\n",
              "      quickchartButtonEl.classList.add('colab-df-spinner');\n",
              "      try {\n",
              "        const charts = await google.colab.kernel.invokeFunction(\n",
              "            'suggestCharts', [key], {});\n",
              "      } catch (error) {\n",
              "        console.error('Error during call to suggestCharts:', error);\n",
              "      }\n",
              "      quickchartButtonEl.classList.remove('colab-df-spinner');\n",
              "      quickchartButtonEl.classList.add('colab-df-quickchart-complete');\n",
              "    }\n",
              "    (() => {\n",
              "      let quickchartButtonEl =\n",
              "        document.querySelector('#df-97a2976e-1fb8-4cda-bdba-08edb7d2d5ef button');\n",
              "      quickchartButtonEl.style.display =\n",
              "        google.colab.kernel.accessAllowed ? 'block' : 'none';\n",
              "    })();\n",
              "  </script>\n",
              "</div>\n",
              "    </div>\n",
              "  </div>\n"
            ]
          },
          "metadata": {},
          "execution_count": 13
        }
      ]
    },
    {
      "cell_type": "markdown",
      "source": [
        "Descreve estatísticas para todas as colunas usando indexação baseada em rótulos.\n",
        "\n",
        "Similar a df.describe(), mas usando rótulos de coluna em vez de posições."
      ],
      "metadata": {
        "id": "QeTTGUHZlAsz"
      }
    },
    {
      "cell_type": "markdown",
      "source": [
        "### 4.1.2 Há valores faltantes?"
      ],
      "metadata": {
        "id": "zCTa_1S7DrNV"
      }
    },
    {
      "cell_type": "code",
      "source": [
        "# Apresenta quantos dados faltantes\n",
        "df.isna().sum()"
      ],
      "metadata": {
        "id": "qZjffE_DES0m",
        "colab": {
          "base_uri": "https://localhost:8080/"
        },
        "outputId": "8b5c555c-84fe-4bf2-8d53-1d590b623d48"
      },
      "execution_count": 14,
      "outputs": [
        {
          "output_type": "execute_result",
          "data": {
            "text/plain": [
              "1º Bimestre      3\n",
              "2º Bimestre      9\n",
              "3º Bimestre    151\n",
              "dtype: int64"
            ]
          },
          "metadata": {},
          "execution_count": 14
        }
      ]
    },
    {
      "cell_type": "markdown",
      "source": [
        "Conta o número de valores ausentes em cada coluna.\n",
        "Ajuda a identificar colunas com dados ausentes, facilitando a tomada de decisões sobre como lidar com eles.\n",
        "\n",
        "* A saída indica que há valores nulos em três colunas:\n",
        "\n",
        "* 1º Bimestre com 3 registros\n",
        "* 2º Bimestre com 9 registros\n",
        "* 3º Bimestre com 151 registros\n",
        "\n",
        "Os números à direita representam a quantidade de valores nulos em cada coluna."
      ],
      "metadata": {
        "id": "_QjaKGWNugyU"
      }
    },
    {
      "cell_type": "code",
      "source": [
        "# Identificar a porcentagem de valores nulos\n",
        "# É útil para entender a extensão do nosso problema.\n",
        "total_rows = len(df)\n",
        "percent_missing = (df.isna().sum() / total_rows) * 100\n",
        "print(percent_missing)"
      ],
      "metadata": {
        "id": "3guSQebCu9nY",
        "outputId": "670d5f82-9c5d-4aaa-818e-8cb213fd8d0a",
        "colab": {
          "base_uri": "https://localhost:8080/"
        }
      },
      "execution_count": 15,
      "outputs": [
        {
          "output_type": "stream",
          "name": "stdout",
          "text": [
            "1º Bimestre     0.536673\n",
            "2º Bimestre     1.610018\n",
            "3º Bimestre    27.012522\n",
            "dtype: float64\n"
          ]
        }
      ]
    },
    {
      "cell_type": "markdown",
      "source": [
        "Calcula o percentual de valores ausentes em cada coluna.\n",
        "\n",
        "Fornece uma visão percentual dos dados ausentes, auxiliando na avaliação do impacto desses valores ausentes.\n",
        "\n",
        "Observamos que existe 27.012522% de valores faltantes no 3º Bimestre.\n",
        "Neste momento devemos decidir sobre a imputação ou remoção de valores nulos, levando em consideração:\n",
        "* Se a quantidade de valores nulos é pequena, pode ser aceitável imputar valores (preenchendo com a média, mediana ou um valor específico).\n",
        "Para preencher os valores nulos em uma coluna com a média, por exemplo, poderíamos fazer algo assim:  ```df['8.25'].fillna(df['8.25'].mean(), inplace=True)```\n",
        "\n",
        "* Se a quantidade de valores nulos é significativa, podemos considerar a remoção das linhas ou colunas afetadas. Neste caso, ralizamos o sequinte código: ```df.dropna(inplace=True)```\n",
        "\n",
        "Conclui-se que a porcentagem é elevada para o dataset, sendo assim opta-se pela remoção das linhas afetadas. Fato esse que será tratado na etapa de Pré-processamento dos dados.\n",
        "[Fonte](https://dev.to/franciscojdsjr/tratamento-de-dados-nulos-no-pandas-uma-abordagem-completa-e-detalhada-41n1)\n",
        "\n",
        "\n"
      ],
      "metadata": {
        "id": "64iH604cwDm8"
      }
    },
    {
      "cell_type": "markdown",
      "source": [
        "### 4.1.3 Número de valores únicos no Data Frame para cada coluna"
      ],
      "metadata": {
        "id": "jA4yFG0lG3UR"
      }
    },
    {
      "cell_type": "code",
      "source": [
        "df.nunique()"
      ],
      "metadata": {
        "id": "V4sZmd3yHGrx",
        "outputId": "5dc56f4b-2b4a-4e6e-95af-ec3e0d53fe76",
        "colab": {
          "base_uri": "https://localhost:8080/"
        }
      },
      "execution_count": 16,
      "outputs": [
        {
          "output_type": "execute_result",
          "data": {
            "text/plain": [
              "1º Bimestre    77\n",
              "2º Bimestre    68\n",
              "3º Bimestre    66\n",
              "dtype: int64"
            ]
          },
          "metadata": {},
          "execution_count": 16
        }
      ]
    },
    {
      "cell_type": "markdown",
      "source": [
        "Retorna o número de valores únicos em cada coluna.\n",
        "\n",
        "Ajuda a entender a variedade e a cardinalidade dos dados em cada coluna."
      ],
      "metadata": {
        "id": "e57tbkMmlsDM"
      }
    },
    {
      "cell_type": "markdown",
      "source": [
        "## 4.2 Explorar visualmente os dados\n",
        "* A análise exploratória de dados envolve a compreensão das distribuições, relações e padrões nos dados.\n",
        "\n",
        "* Histogramas, densidades e boxplots ajudam a entender a distribuição e variabilidade das variáveis.\n",
        "\n",
        "* Gráficos de dispersão e matrizes de correlação revelam relações entre variáveis.\n",
        "\n",
        "* O heatmap fornece uma visão compacta das correlações.\n",
        "\n",
        "* Gráficos 3D e radar/spider são úteis para explorar padrões complexos.\n",
        "\n",
        "* Swarm plots destacam a distribuição de dados categóricos.\n",
        "\n",
        "* Ao aplicar essas visualizações em conjunto, podemos obter insights sobre a estrutura, tendências e possíveis relações nos dados. A análise visual é fundamental para orientar decisões sobre a modelagem e a abordagem de análises mais avançadas.\n",
        "\n",
        "* Esses gráficos são ferramentas para descoberta de padrões, identificação de outliers e entendimento geral da natureza dos dados."
      ],
      "metadata": {
        "id": "2luan6Ty5VHC"
      }
    },
    {
      "cell_type": "markdown",
      "source": [
        "### 4.2.1 Distribuição e variabilidade das variáveis"
      ],
      "metadata": {
        "id": "9UA93L58obik"
      }
    },
    {
      "cell_type": "markdown",
      "source": [
        "#### 4.2.2 Histograma\n",
        "Por meio de histograma, vamos dar maior embasamento quanto a necessidade de aplicar uma transformação dos dados."
      ],
      "metadata": {
        "id": "xlQd6jRVzM2N"
      }
    },
    {
      "cell_type": "code",
      "source": [
        "# Criar subplots\n",
        "fig, axs = plt.subplots(1, 3, figsize=(13, 4), sharey=True)\n",
        "\n",
        "# Histograma para a coluna 1º Bimestre\n",
        "axs[0].hist(df['1º Bimestre'], bins=20, color='blue', alpha=0.7)\n",
        "axs[0].set_title('1º Bimestre')\n",
        "axs[0].set_xlabel('Notas')\n",
        "axs[0].set_ylabel('Frequência')\n",
        "\n",
        "# Histograma para a coluna 2º Bimestre\n",
        "axs[1].hist(df['2º Bimestre'], bins=20, color='green', alpha=0.7)\n",
        "axs[1].set_title('2º Bimestre')\n",
        "axs[1].set_xlabel('Notas')\n",
        "\n",
        "# Histograma para a coluna 3º Bimestre\n",
        "axs[2].hist(df['3º Bimestre'], bins=20, color='red', alpha=0.7)\n",
        "axs[2].set_title('3º Bimestre')\n",
        "axs[2].set_xlabel('Notas')\n",
        "\n",
        "# Ajustar layout\n",
        "plt.tight_layout()\n",
        "\n",
        "# Mostrar os gráficos\n",
        "plt.show()"
      ],
      "metadata": {
        "id": "MuoecFBF7830",
        "outputId": "35db46f0-ec90-491c-bf52-ffee12ad7a6c",
        "colab": {
          "base_uri": "https://localhost:8080/",
          "height": 302
        }
      },
      "execution_count": 17,
      "outputs": [
        {
          "output_type": "display_data",
          "data": {
            "text/plain": [
              "<Figure size 1300x400 with 3 Axes>"
            ],
            "image/png": "[encoded data removed]"
          },
          "metadata": {}
        }
      ]
    },
    {
      "cell_type": "markdown",
      "source": [
        "#### 4.2.3 Densidade de cada atribuito"
      ],
      "metadata": {
        "id": "t6GTk4ht0GUS"
      }
    },
    {
      "cell_type": "code",
      "source": [
        "# Densidade de cada atribuito\n",
        "\n",
        "# Configurar a figura\n",
        "plt.figure(figsize=(10, 5))\n",
        "\n",
        "# Criar gráficos de densidade para cada coluna\n",
        "for col in df.columns:\n",
        "    sns.kdeplot(df[col], label=col, shade=True)\n",
        "\n",
        "# Adicionar título e rótulos aos eixos\n",
        "plt.title('Densidade das Notas por Bimestre')\n",
        "plt.xlabel('Notas')\n",
        "plt.ylabel('Densidade')\n",
        "\n",
        "# Mostrar a legenda\n",
        "plt.legend()\n",
        "\n",
        "# Mostrar o gráfico\n",
        "plt.show()"
      ],
      "metadata": {
        "id": "fWwYYHeBqlHY",
        "outputId": "d3102570-191d-47e7-8346-180e05cd6df7",
        "colab": {
          "base_uri": "https://localhost:8080/",
          "height": 799
        }
      },
      "execution_count": 18,
      "outputs": [
        {
          "output_type": "stream",
          "name": "stderr",
          "text": [
            "<ipython-input-18-0e3687f91867>:8: FutureWarning: \n",
            "\n",
            "`shade` is now deprecated in favor of `fill`; setting `fill=True`.\n",
            "This will become an error in seaborn v0.14.0; please update your code.\n",
            "\n",
            "  sns.kdeplot(df[col], label=col, shade=True)\n",
            "<ipython-input-18-0e3687f91867>:8: FutureWarning: \n",
            "\n",
            "`shade` is now deprecated in favor of `fill`; setting `fill=True`.\n",
            "This will become an error in seaborn v0.14.0; please update your code.\n",
            "\n",
            "  sns.kdeplot(df[col], label=col, shade=True)\n",
            "<ipython-input-18-0e3687f91867>:8: FutureWarning: \n",
            "\n",
            "`shade` is now deprecated in favor of `fill`; setting `fill=True`.\n",
            "This will become an error in seaborn v0.14.0; please update your code.\n",
            "\n",
            "  sns.kdeplot(df[col], label=col, shade=True)\n"
          ]
        },
        {
          "output_type": "display_data",
          "data": {
            "text/plain": [
              "<Figure size 1000x500 with 1 Axes>"
            ],
            "image/png": "[encoded data removed]"
          },
          "metadata": {}
        }
      ]
    },
    {
      "cell_type": "markdown",
      "source": [
        "* O eixo x representa as notas dos alunos, e o eixo y representa a densidade da distribuição dessas notas.\n",
        "* Cada curva colorida representa a distribuição de densidade das notas para um bimestre específico.\n",
        "* A área sob cada curva representa a probabilidade de uma nota ocorrer nesse bimestre.\n",
        "* Se as curvas são mais largas, isso sugere uma maior variabilidade nas notas, enquanto curvas mais estreitas indicam menos variabilidade."
      ],
      "metadata": {
        "id": "fnNeOapUro3w"
      }
    },
    {
      "cell_type": "markdown",
      "source": [
        "#### 4.2.4 Boxplots"
      ],
      "metadata": {
        "id": "NA0LNOY71yl6"
      }
    },
    {
      "cell_type": "code",
      "source": [
        "# Configurar a figura\n",
        "plt.figure(figsize=(6, 3))\n",
        "\n",
        "# Criar o boxplot\n",
        "sns.boxplot(data=df)\n",
        "plt.title('Boxplot dos Bimestres')\n",
        "plt.xlabel('Bimestre')\n",
        "plt.ylabel('Notas')\n",
        "\n",
        "# Mostrar o gráfico\n",
        "plt.show()"
      ],
      "metadata": {
        "id": "fh3PpadH2it3",
        "outputId": "446bace0-f3c0-4ae6-a209-d44b745b11be",
        "colab": {
          "base_uri": "https://localhost:8080/",
          "height": 333
        }
      },
      "execution_count": 19,
      "outputs": [
        {
          "output_type": "display_data",
          "data": {
            "text/plain": [
              "<Figure size 600x300 with 1 Axes>"
            ],
            "image/png": "[encoded data removed]"
          },
          "metadata": {}
        }
      ]
    },
    {
      "cell_type": "markdown",
      "source": [
        "### 4.2.2 Relações entre variáveis"
      ],
      "metadata": {
        "id": "FGrmibCdooZR"
      }
    },
    {
      "cell_type": "markdown",
      "source": [
        "#### 4.2.2.1 Diagramas de dispersão"
      ],
      "metadata": {
        "id": "5o7Lr8uF0NDS"
      }
    },
    {
      "cell_type": "code",
      "source": [
        "# Escolher as colunas para a matriz de diagramas de dispersão\n",
        "columns = ['1º Bimestre', '2º Bimestre', '3º Bimestre']\n",
        "\n",
        "# Criar matriz de diagramas de dispersão\n",
        "sns.pairplot(df[columns])\n",
        "plt.show()"
      ],
      "metadata": {
        "id": "u9jrcAj0yH70",
        "outputId": "1f31d31e-135a-454f-f31f-694333130c07",
        "colab": {
          "base_uri": "https://localhost:8080/",
          "height": 758
        }
      },
      "execution_count": 20,
      "outputs": [
        {
          "output_type": "display_data",
          "data": {
            "text/plain": [
              "<Figure size 750x750 with 12 Axes>"
            ],
            "image/png": "[encoded data removed]"
          },
          "metadata": {}
        }
      ]
    },
    {
      "cell_type": "markdown",
      "source": [
        "#### 4.2.2.2 Matriz de correlação de Pearson\n"
      ],
      "metadata": {
        "id": "MmXSzvtMzdQ-"
      }
    },
    {
      "cell_type": "code",
      "source": [
        "# Calcular a matriz de correlação de Pearson\n",
        "correlation_matrix = df[['1º Bimestre', '2º Bimestre', '3º Bimestre']].corr(method='pearson')\n",
        "\n",
        "# Mostrar a matriz de correlação\n",
        "print(correlation_matrix)"
      ],
      "metadata": {
        "id": "lisB4TGH9Y4r",
        "outputId": "41cad824-052b-4759-d7cd-754af8faa541",
        "colab": {
          "base_uri": "https://localhost:8080/"
        }
      },
      "execution_count": 21,
      "outputs": [
        {
          "output_type": "stream",
          "name": "stdout",
          "text": [
            "             1º Bimestre  2º Bimestre  3º Bimestre\n",
            "1º Bimestre     1.000000     0.785143     0.783251\n",
            "2º Bimestre     0.785143     1.000000     0.804359\n",
            "3º Bimestre     0.783251     0.804359     1.000000\n"
          ]
        }
      ]
    },
    {
      "cell_type": "markdown",
      "source": [
        "A diagonal principal sempre terá um coeficiente de correlação de 1, porque é a correlação de uma variável consigo mesma. Isso é esperado.\n",
        "\n",
        "* **1º Bimestre vs. 2º Bimestre:** O coeficiente de 0.785143 indica uma correlação positiva forte (próxima de 1), sugerindo que as notas no 1º Bimestre e as notas no 2º Bimestre tendem a aumentar juntas.\n",
        "\n",
        "* **1º Bimestre vs. 3º Bimestre:** O coeficiente de 0.783251 indica uma correlação positiva forte (próxima de 1), sugerindo que as notas no 1º Bimestre e as notas no 3º Bimestre (7.50) tendem a aumentar juntas.\n",
        "\n",
        "* **2º Bimestre vs. 3º Bimestre:** O coeficiente de 0.804359 indica uma correlação positiva forte (próxima de 1), sugerindo que as notas no 2º Bimestre e as notas no 3º Bimestre tendem a aumentar juntas.\n",
        "\n",
        "A matriz de correlação sugere que há correlações positivas fortes entre as notas nos diferentes bimestres, indicando que, em geral, as notas tendem a aumentar ou diminuir em conjunto entre os bimestres."
      ],
      "metadata": {
        "id": "bWzBB2ncoTfj"
      }
    },
    {
      "cell_type": "markdown",
      "source": [
        "### 4.2.3 Visão compacta das correlações"
      ],
      "metadata": {
        "id": "KlrQxo2zot8G"
      }
    },
    {
      "cell_type": "markdown",
      "source": [
        "#### 4.2.3.1 Mapa de calor (heatmap)"
      ],
      "metadata": {
        "id": "gPIqIQ3hz6WJ"
      }
    },
    {
      "cell_type": "code",
      "source": [
        "# Criar um mapa de calor (heatmap) para facilitar a visualização da correlação existente.\n",
        "sns.heatmap(correlation_matrix, annot=True, cmap='coolwarm', fmt=\".2f\")\n",
        "plt.title('Matriz de Correlação')\n",
        "plt.show()"
      ],
      "metadata": {
        "id": "MroHTpuamCfV",
        "outputId": "fad8a32a-5187-46bb-f1ee-ddc1aa2109d0",
        "colab": {
          "base_uri": "https://localhost:8080/",
          "height": 452
        }
      },
      "execution_count": 22,
      "outputs": [
        {
          "output_type": "display_data",
          "data": {
            "text/plain": [
              "<Figure size 640x480 with 2 Axes>"
            ],
            "image/png": "[encoded data removed]"
          },
          "metadata": {}
        }
      ]
    },
    {
      "cell_type": "markdown",
      "source": [],
      "metadata": {
        "id": "mpv_XD6mo3dc"
      }
    },
    {
      "cell_type": "markdown",
      "source": [
        "### 4.2.4 Explorar padrões complexos"
      ],
      "metadata": {
        "id": "d-MCF-espBIH"
      }
    },
    {
      "cell_type": "markdown",
      "source": [
        "#### 4.2.4.1 Gráfico 3D"
      ],
      "metadata": {
        "id": "tS8TV1cN_y7b"
      }
    },
    {
      "cell_type": "code",
      "source": [
        "# Configurar a figura 3D\n",
        "fig = plt.figure(figsize=(12, 5))\n",
        "ax = fig.add_subplot(111, projection='3d')\n",
        "\n",
        "# Criar o gráfico 3D com cores diferentes para cada marcador\n",
        "cores = np.arange(len(df))\n",
        "sc = ax.scatter(df['1º Bimestre'], df['2º Bimestre'], df['3º Bimestre'], c=cores, cmap='viridis', marker='o')\n",
        "\n",
        "# Adicionar rótulos aos eixos\n",
        "ax.set_xlabel('1º Bimestre')\n",
        "ax.set_ylabel('2º Bimestre')\n",
        "ax.set_zlabel('3º Bimestre')\n",
        "\n",
        "# Adicionar título\n",
        "ax.set_title('Gráfico 3D')\n",
        "\n",
        "# Adicionar barra de cores\n",
        "cbar = fig.colorbar(sc, ax=ax, orientation='vertical', pad=0.05)\n",
        "cbar.set_label('Marcador')\n",
        "\n",
        "# Mostrar o gráfico\n",
        "plt.show()"
      ],
      "metadata": {
        "colab": {
          "base_uri": "https://localhost:8080/",
          "height": 452
        },
        "id": "HKpzN0hxD2av",
        "outputId": "296019fe-cfb2-47ac-8253-01080731a750"
      },
      "execution_count": 24,
      "outputs": [
        {
          "output_type": "display_data",
          "data": {
            "text/plain": [
              "<Figure size 1200x500 with 2 Axes>"
            ],
            "image/png": "[encoded data removed]"
          },
          "metadata": {}
        }
      ]
    },
    {
      "cell_type": "markdown",
      "source": [
        "#### 4.2.4.2 Gráfico de Radar/Spider"
      ],
      "metadata": {
        "id": "6cnKcrfqBSUJ"
      }
    },
    {
      "cell_type": "code",
      "source": [
        "# Configurar o número de variáveis\n",
        "num_variaveis = len(df.columns)\n",
        "\n",
        "# Calcular os ângulos para cada variável\n",
        "angulos = np.linspace(0, 2 * np.pi, num_variaveis, endpoint=False).tolist()\n",
        "\n",
        "# Adicionar o primeiro valor no final para fechar o círculo\n",
        "valores = df.iloc[0].tolist()\n",
        "valores += valores[:1]\n",
        "angulos += angulos[:1]\n",
        "\n",
        "# Configurar a figura\n",
        "fig, ax = plt.subplots(figsize=(4, 4), subplot_kw=dict(polar=True))\n",
        "\n",
        "# Plotar o gráfico de radar\n",
        "ax.fill(angulos, valores, color='blue', alpha=0.25)\n",
        "ax.set_thetagrids(np.degrees(angulos[:-1]), df.columns)\n",
        "\n",
        "# Adicionar título\n",
        "ax.set_title('Gráfico de Radar')\n",
        "\n",
        "# Mostrar o gráfico\n",
        "plt.show()"
      ],
      "metadata": {
        "colab": {
          "base_uri": "https://localhost:8080/",
          "height": 370
        },
        "id": "54M6LR-RBW9U",
        "outputId": "d7f7cc56-70ca-4261-b7a6-d0e4ca1bee7b"
      },
      "execution_count": 25,
      "outputs": [
        {
          "output_type": "display_data",
          "data": {
            "text/plain": [
              "<Figure size 400x400 with 1 Axes>"
            ],
            "image/png": "[encoded data removed]"
          },
          "metadata": {}
        }
      ]
    },
    {
      "cell_type": "markdown",
      "source": [
        "* Cada nota é representado por um raio no gráfico de radar.\n",
        "* A distância do centro para o ponto em cada raio representa o desempenho médio no bimestre.\n",
        "* O gráfico mostra a tendência geral de desempenho nos bimestres."
      ],
      "metadata": {
        "id": "LWwtxTp6CVtv"
      }
    },
    {
      "cell_type": "markdown",
      "source": [
        "#### 4.2.4.3 Gráfico Swarm Plot"
      ],
      "metadata": {
        "id": "R2QdocWFFU9r"
      }
    },
    {
      "cell_type": "code",
      "source": [
        "# Melt o DataFrame para o formato necessário para o swarm plot\n",
        "df_melted = pd.melt(df, var_name='Bimestre', value_name='Nota')\n",
        "\n",
        "# Configurar o estilo\n",
        "sns.set(style=\"whitegrid\")\n",
        "\n",
        "# Criar o swarm plot\n",
        "plt.figure(figsize=(10, 4))\n",
        "sns.swarmplot(x='Bimestre', y='Nota', data=df_melted, color='blue', size=8)\n",
        "\n",
        "# Adicionar título\n",
        "plt.title('Swarm Plot das Notas ao Longo dos Bimestres')\n",
        "\n",
        "# Mostrar o gráfico\n",
        "plt.show()"
      ],
      "metadata": {
        "colab": {
          "base_uri": "https://localhost:8080/",
          "height": 647
        },
        "id": "cgXK9OEeFb_4",
        "outputId": "fea01a27-17e1-4290-d2ad-08ef2628b687"
      },
      "execution_count": 26,
      "outputs": [
        {
          "output_type": "stream",
          "name": "stderr",
          "text": [
            "/usr/local/lib/python3.10/dist-packages/seaborn/categorical.py:3544: UserWarning: 48.9% of the points cannot be placed; you may want to decrease the size of the markers or use stripplot.\n",
            "  warnings.warn(msg, UserWarning)\n",
            "/usr/local/lib/python3.10/dist-packages/seaborn/categorical.py:3544: UserWarning: 50.4% of the points cannot be placed; you may want to decrease the size of the markers or use stripplot.\n",
            "  warnings.warn(msg, UserWarning)\n",
            "/usr/local/lib/python3.10/dist-packages/seaborn/categorical.py:3544: UserWarning: 33.8% of the points cannot be placed; you may want to decrease the size of the markers or use stripplot.\n",
            "  warnings.warn(msg, UserWarning)\n",
            "/usr/local/lib/python3.10/dist-packages/seaborn/categorical.py:3544: UserWarning: 59.0% of the points cannot be placed; you may want to decrease the size of the markers or use stripplot.\n",
            "  warnings.warn(msg, UserWarning)\n",
            "/usr/local/lib/python3.10/dist-packages/seaborn/categorical.py:3544: UserWarning: 61.3% of the points cannot be placed; you may want to decrease the size of the markers or use stripplot.\n",
            "  warnings.warn(msg, UserWarning)\n",
            "/usr/local/lib/python3.10/dist-packages/seaborn/categorical.py:3544: UserWarning: 46.6% of the points cannot be placed; you may want to decrease the size of the markers or use stripplot.\n",
            "  warnings.warn(msg, UserWarning)\n"
          ]
        },
        {
          "output_type": "display_data",
          "data": {
            "text/plain": [
              "<Figure size 1000x400 with 1 Axes>"
            ],
            "image/png": "[encoded data removed]"
          },
          "metadata": {}
        }
      ]
    },
    {
      "cell_type": "markdown",
      "source": [
        "Cada ponto representa a nota de um aluno em um determinado bimestre.\n",
        "\n",
        "A posição horizontal dos pontos indica o bimestre, e a posição vertical representa a nota do aluno.\n",
        "\n",
        "Identificamos os padrões de concentração e dispersão das notas, a qual as maiores notas concetram-se acima da média 7 nos 3 bimestres o que representa um desempenho médio satisfatório e com baixa variação entre os bimestres."
      ],
      "metadata": {
        "id": "BT0BWrolGDfc"
      }
    },
    {
      "cell_type": "markdown",
      "source": [
        "# **5. Pré-processamento dos dados**"
      ],
      "metadata": {
        "id": "ULazsY-FAvNg"
      }
    },
    {
      "cell_type": "markdown",
      "source": [
        "## 5.1 Tratando dados faltantes"
      ],
      "metadata": {
        "id": "rMqiRnPqvjQY"
      }
    },
    {
      "cell_type": "markdown",
      "source": [
        "### 5.1.1 Observando dados faltantes"
      ],
      "metadata": {
        "id": "XHa3MmqCW7-7"
      }
    },
    {
      "cell_type": "code",
      "source": [
        "# Caso tenha dados faltantes, podemos tirar as linhas\n",
        "#df = df.dropna(inplace=True)\n",
        "df.info()"
      ],
      "metadata": {
        "id": "owQrLD0Mx4jK",
        "outputId": "dd1942ef-eda0-4cfa-c11c-c019a9240b11",
        "colab": {
          "base_uri": "https://localhost:8080/"
        }
      },
      "execution_count": 27,
      "outputs": [
        {
          "output_type": "stream",
          "name": "stdout",
          "text": [
            "<class 'pandas.core.frame.DataFrame'>\n",
            "RangeIndex: 559 entries, 0 to 558\n",
            "Data columns (total 3 columns):\n",
            " #   Column       Non-Null Count  Dtype  \n",
            "---  ------       --------------  -----  \n",
            " 0   1º Bimestre  556 non-null    float64\n",
            " 1   2º Bimestre  550 non-null    float64\n",
            " 2   3º Bimestre  408 non-null    float64\n",
            "dtypes: float64(3)\n",
            "memory usage: 13.2 KB\n"
          ]
        }
      ]
    },
    {
      "cell_type": "code",
      "source": [
        "# Apresenta quantos dados faltantes\n",
        "df.isna().sum()"
      ],
      "metadata": {
        "id": "DY1XhFJWyMwc",
        "outputId": "a66e574f-6365-464c-fe50-38041884c4a7",
        "colab": {
          "base_uri": "https://localhost:8080/"
        }
      },
      "execution_count": 28,
      "outputs": [
        {
          "output_type": "execute_result",
          "data": {
            "text/plain": [
              "1º Bimestre      3\n",
              "2º Bimestre      9\n",
              "3º Bimestre    151\n",
              "dtype: int64"
            ]
          },
          "metadata": {},
          "execution_count": 28
        }
      ]
    },
    {
      "cell_type": "markdown",
      "source": [
        "### 5.1.2 Limpando dados faltantes"
      ],
      "metadata": {
        "id": "7WnMYJhgXBGe"
      }
    },
    {
      "cell_type": "code",
      "source": [
        "# Criar um novo DataFrame ('df1') removendo linhas com valores ausentes\n",
        "df1 = df.dropna()\n",
        "\n",
        "# Exibir as primeiras linhas do novo DataFrame\n",
        "print(df1.head())"
      ],
      "metadata": {
        "colab": {
          "base_uri": "https://localhost:8080/"
        },
        "id": "Ftd9ccZGWASB",
        "outputId": "44124d32-a5f5-4a28-fb03-8beee04d8669"
      },
      "execution_count": 34,
      "outputs": [
        {
          "output_type": "stream",
          "name": "stdout",
          "text": [
            "   1º Bimestre  2º Bimestre  3º Bimestre\n",
            "0         10.0         10.0          9.0\n",
            "1          9.3          8.8          7.0\n",
            "3         10.0          9.0         10.0\n",
            "4          9.0         10.0         10.0\n",
            "6          8.5          9.0         10.0\n"
          ]
        }
      ]
    },
    {
      "cell_type": "code",
      "source": [
        "# Apresenta quantos dados faltantes no novo DataFrame (df1)\n",
        "df1.isna().sum()"
      ],
      "metadata": {
        "colab": {
          "base_uri": "https://localhost:8080/"
        },
        "id": "APFd-Y0hWHWB",
        "outputId": "a7ad4bf8-38d0-4d0a-eaed-49ceee548369"
      },
      "execution_count": 36,
      "outputs": [
        {
          "output_type": "execute_result",
          "data": {
            "text/plain": [
              "1º Bimestre    0\n",
              "2º Bimestre    0\n",
              "3º Bimestre    0\n",
              "dtype: int64"
            ]
          },
          "metadata": {},
          "execution_count": 36
        }
      ]
    },
    {
      "cell_type": "markdown",
      "source": [
        "O novo DataFrame (df1) foi derivado do DataFrame original (df) após a aplicação de um procedimento de remoção de linhas contendo dados faltantes.\n",
        "\n",
        "O método utilizado para esta operação foi o dropna(), que eliminou todas as observações que continham pelo menos um valor ausente.\n",
        "\n",
        "Após a realização dessa operação, verificou-se que o DataFrame df1 não possui mais valores faltantes em suas linhas, representando uma versão limpa e completa do conjunto de dados original."
      ],
      "metadata": {
        "id": "5X-HaQLTWrAi"
      }
    },
    {
      "cell_type": "markdown",
      "source": [
        "## 5.2 Há dados duplicados?"
      ],
      "metadata": {
        "id": "LtI1TPmSE7oo"
      }
    },
    {
      "cell_type": "markdown",
      "source": [
        "### 5.2.1 Identificar linhas duplicadas."
      ],
      "metadata": {
        "id": "WcD_goU3Xey3"
      }
    },
    {
      "cell_type": "code",
      "source": [
        "# Verificar linhas duplicadas no DataFrame\n",
        "duplicated_rows = df1[df1.duplicated()]\n",
        "\n",
        "# Exibir as linhas duplicadas\n",
        "print(\"Linhas Duplicadas:\")\n",
        "print(duplicated_rows)"
      ],
      "metadata": {
        "colab": {
          "base_uri": "https://localhost:8080/"
        },
        "id": "IGKKpGA5Xs8a",
        "outputId": "bb34d651-ee4a-450a-dc9b-c25a4d64c6e7"
      },
      "execution_count": 43,
      "outputs": [
        {
          "output_type": "stream",
          "name": "stdout",
          "text": [
            "Linhas Duplicadas:\n",
            "     1º Bimestre  2º Bimestre  3º Bimestre\n",
            "19         10.00         9.00         10.0\n",
            "35         10.00         9.00         10.0\n",
            "51         10.00         9.00         10.0\n",
            "55         10.00         9.00         10.0\n",
            "59         10.00        10.00         10.0\n",
            "..           ...          ...          ...\n",
            "534         8.50         8.50         10.0\n",
            "543         8.32         8.25          8.1\n",
            "544        10.00        10.00         10.0\n",
            "547        10.00         9.50         10.0\n",
            "550         8.50         8.00          9.0\n",
            "\n",
            "[125 rows x 3 columns]\n"
          ]
        }
      ]
    },
    {
      "cell_type": "markdown",
      "source": [
        "### 5.2.2 Remover linhas duplicadas."
      ],
      "metadata": {
        "id": "ZOB63mlPXjj8"
      }
    },
    {
      "cell_type": "code",
      "source": [
        "# Remover linhas duplicadas do DataFrame\n",
        "df1_no_duplicates = df1.drop_duplicates()\n",
        "\n",
        "# Exibir as primeiras linhas do DataFrame sem duplicatas\n",
        "print(\"\\nDataFrame Sem Duplicatas:\")\n",
        "print(df1_no_duplicates.head())"
      ],
      "metadata": {
        "colab": {
          "base_uri": "https://localhost:8080/"
        },
        "id": "BowQdgoidyk_",
        "outputId": "130ee548-c37d-4ef1-d0dd-1ffa40baae31"
      },
      "execution_count": 44,
      "outputs": [
        {
          "output_type": "stream",
          "name": "stdout",
          "text": [
            "\n",
            "DataFrame Sem Duplicatas:\n",
            "   1º Bimestre  2º Bimestre  3º Bimestre\n",
            "0         10.0         10.0          9.0\n",
            "1          9.3          8.8          7.0\n",
            "3         10.0          9.0         10.0\n",
            "4          9.0         10.0         10.0\n",
            "6          8.5          9.0         10.0\n"
          ]
        }
      ]
    },
    {
      "cell_type": "markdown",
      "source": [
        "## 5.3 Manuseio de Outlilet"
      ],
      "metadata": {
        "id": "K4qP01kLax0d"
      }
    },
    {
      "cell_type": "markdown",
      "source": [
        "Observar Outlilet"
      ],
      "metadata": {
        "id": "DlQ6zZ-vbNxd"
      }
    },
    {
      "cell_type": "code",
      "source": [
        "# Configurar a figura\n",
        "plt.figure(figsize=(6, 3))\n",
        "\n",
        "# Criar o boxplot\n",
        "sns.boxplot(data=df1)\n",
        "plt.title('Boxplot dos Bimestres')\n",
        "plt.xlabel('Bimestre')\n",
        "plt.ylabel('Notas')\n",
        "\n",
        "# Mostrar o gráfico\n",
        "plt.show()"
      ],
      "metadata": {
        "colab": {
          "base_uri": "https://localhost:8080/",
          "height": 342
        },
        "id": "1ycGDBUnbNWZ",
        "outputId": "037230e7-30c4-46b9-abfe-438212873d15"
      },
      "execution_count": 39,
      "outputs": [
        {
          "output_type": "display_data",
          "data": {
            "text/plain": [
              "<Figure size 600x300 with 1 Axes>"
            ],
            "image/png": "[encoded data removed]"
          },
          "metadata": {}
        }
      ]
    },
    {
      "cell_type": "code",
      "source": [
        "# Exemplo: Remover outliers usando a regra do IQR\n",
        "Q1 = df1.quantile(0.25)\n",
        "Q3 = df1.quantile(0.75)\n",
        "IQR = Q3 - Q1\n",
        "df1_no_outliers = df1[~((df1 < (Q1 - 1.5 * IQR)) | (df1 > (Q3 + 1.5 * IQR))).any(axis=1)]"
      ],
      "metadata": {
        "id": "L1jAGzQ6a69F"
      },
      "execution_count": 40,
      "outputs": []
    },
    {
      "cell_type": "code",
      "source": [
        "# Configurar a figura\n",
        "plt.figure(figsize=(6, 3))\n",
        "\n",
        "# Criar o boxplot\n",
        "sns.boxplot(data=df1_no_outliers)\n",
        "plt.title('Boxplot dos Bimestres')\n",
        "plt.xlabel('Bimestre')\n",
        "plt.ylabel('Notas')\n",
        "\n",
        "# Mostrar o gráfico\n",
        "plt.show()"
      ],
      "metadata": {
        "colab": {
          "base_uri": "https://localhost:8080/",
          "height": 342
        },
        "id": "Uez4J_pwbbr6",
        "outputId": "79f77693-94ce-4541-d783-db980cf6ae80"
      },
      "execution_count": 42,
      "outputs": [
        {
          "output_type": "display_data",
          "data": {
            "text/plain": [
              "<Figure size 600x300 with 1 Axes>"
            ],
            "image/png": "[encoded data removed]"
          },
          "metadata": {}
        }
      ]
    },
    {
      "cell_type": "markdown",
      "source": [
        "Inicialmente, utilizamos uma técnica chamada Intervalo Interquartil (IQR) para identificar outliers no DataFrame original. Esse método considera a distribuição dos dados, calculando os quartis e definindo limites para identificar valores que se afastam significativamente do padrão.\n",
        "\n",
        "Após a identificação, criamos um novo DataFrame chamado df_no_outliers, onde removemos as linhas que continham outliers. Esse processo visa melhorar a qualidade dos dados, eliminando valores extremos que podem distorcer análises estatísticas.\n",
        "\n",
        "Ao comparar o DataFrame original (df1) e o DataFrame sem outliers (df1_no_outliers), observamos que o último não contém mais valores atípicos. Isso sugere uma redução na dispersão extrema dos dados, tornando-os mais consistentes e adequados para análises subsequentes."
      ],
      "metadata": {
        "id": "5npbxx8pczvv"
      }
    },
    {
      "cell_type": "markdown",
      "source": [
        "# **6. Conclusão**"
      ],
      "metadata": {
        "id": "oXDxF1opThNY"
      }
    },
    {
      "cell_type": "markdown",
      "source": [
        "A análise dos dados começou com o DataFrame inicial (df), que representa um conjunto de notas de alunos em três bimestres. O objetivo primordial foi compreender a estrutura dos dados, identificando possíveis desafios e padrões que pudessem influenciar as análises subsequentes.\n",
        "\n",
        "O processo foi iniciado com uma análise exploratória, utilizando comandos como df.shape e df.info() para entender a dimensão do DataFrame e a presença de dados faltantes. A identificação de dados ausentes nos levou à aplicação de estratégias como remoção de linhas ou imputação, visando garantir a integridade dos dados.\n",
        "\n",
        "A análise estatística descritiva, realizada por meio do comando df.describe(), proporcionou insights sobre a distribuição das notas, seus valores médios e variações entre os bimestres. Essa etapa foi crucial para obter uma visão geral das características centrais do conjunto de dados.\n",
        "\n",
        "Ao observarmos o número de valores únicos em cada bimestre usando df.nunique(), identificamos a diversidade de notas em cada período. Essa análise foi instrumental para entender a variabilidade nos desempenhos dos alunos ao longo do tempo.\n",
        "\n",
        "A criação e visualização de histogramas para cada bimestre proporcionaram uma representação gráfica da distribuição das notas. Esse método permitiu a observação de padrões de concentração de notas e avaliação da simetria ou assimetria das distribuições.\n",
        "\n",
        "A matriz de correlação, gerada por df.corr(), revelou as relações lineares entre os bimestres. A análise desse aspecto é fundamental para compreender se há associações consistentes entre os desempenhos em diferentes períodos.\n",
        "\n",
        "Após essas etapas iniciais, identificamos a presença de outliers no DataFrame, para os quais aplicamos a regra do Intervalo Interquartil (IQR) com o objetivo de mitigar efeitos potencialmente distorcivos na análise.\n",
        "\n",
        "Essas análises preliminares estabeleceram uma base sólida para investigações mais aprofundadas, orientando quanto às características e distribuições específicas dos dados. À medida que o trabalho avançou, considera-se técnicas mais avançadas e abordagens específicas para atingir os objetivos específicos de análise e extração de insights significativos deste conjunto de dados."
      ],
      "metadata": {
        "id": "nkZMU0qrTrmN"
      }
    }
  ]
}