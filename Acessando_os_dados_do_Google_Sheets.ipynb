{
  "nbformat": 4,
  "nbformat_minor": 0,
  "metadata": {
    "colab": {
      "provenance": [],
      "authorship_tag": "ABX9TyPsNhxXjg89mP6jc0tDXv5d",
      "include_colab_link": true
    },
    "kernelspec": {
      "name": "python3",
      "display_name": "Python 3"
    },
    "language_info": {
      "name": "python"
    }
  },
  "cells": [
    {
      "cell_type": "markdown",
      "metadata": {
        "id": "view-in-github",
        "colab_type": "text"
      },
      "source": [
        "<a href=\"https://colab.research.google.com/github/douglasbechara/Notebooks/blob/main/Acessando_os_dados_do_Google_Sheets.ipynb\" target=\"_parent\"><img src=\"https://colab.research.google.com/assets/colab-badge.svg\" alt=\"Open In Colab\"/></a>"
      ]
    },
    {
      "cell_type": "markdown",
      "source": [
        "**Instalar** um **pacote Gspread** que não é padrão do Colab.\n",
        "\n",
        "`pip install --upgrade gspread`\n",
        "\n",
        "Anatomia do comando para iniciantes:\n",
        "* `pip` É um gerenciador de pacotes no Python, então ele vai gerenciar as bibliotecas que você vai instalar, desinstalar e atualizar. [Fonte](https://www.hashtagtreinamentos.com/pip-install-no-python#:~:text=dentro%20do%20Python.-,Pip%20no%20Python,que%20voc%C3%AA%20j%C3%A1%20possa%20utilizar.)\n",
        "\n",
        "* `install` Comando de instalação.\n",
        "\n",
        "* `-- upgrade` Para garantir que a versão instalada seja pelo menos tão recente quanto a disponível. [Fonte](https://docs.python.org/pt-br/3/library/ensurepip.html?highlight=upgrade)\n",
        "\n",
        "* `gsdpread` É uma API Python para Planilhas Google. [Fonte](https://docs.gspread.org/en/latest/)"
      ],
      "metadata": {
        "id": "5A0yFiW9jY2B"
      }
    },
    {
      "cell_type": "code",
      "execution_count": null,
      "metadata": {
        "id": "7VA8EdGrjTlW"
      },
      "outputs": [],
      "source": [
        "#pip install --upgrade gspread"
      ]
    },
    {
      "cell_type": "markdown",
      "source": [
        "2.2 Autenticação no Google Sheet. [Fonte](https://colab.research.google.com/notebooks/io.ipynb#scrollTo=6d0xJz3VzLOo)"
      ],
      "metadata": {
        "id": "QGTk9Cahjifl"
      }
    },
    {
      "cell_type": "code",
      "source": [
        "# from google.colab import auth\n",
        "# auth.authenticate_user()\n",
        "\n",
        "# import gspread\n",
        "# from google.auth import default\n",
        "# creds, _ = default()\n",
        "\n",
        "# gc = gspread.authorize(creds)"
      ],
      "metadata": {
        "id": "s-dXSsnwjldY"
      },
      "execution_count": null,
      "outputs": []
    },
    {
      "cell_type": "markdown",
      "source": [
        "\\2.3 Criando variável para acessar a planilha do Google Sheet\n",
        "`MVP_notas_alunos = gc.open('Controle_de_notas_T229-MJ')`"
      ],
      "metadata": {
        "id": "r_C7UaFPjpCj"
      }
    },
    {
      "cell_type": "code",
      "source": [
        "# MVP_notas_alunos = gc.open('Controle_de_notas_T229-MJ')"
      ],
      "metadata": {
        "id": "zuq4TdnwjslL"
      },
      "execution_count": null,
      "outputs": []
    },
    {
      "cell_type": "code",
      "source": [
        "# aba1 = MVP_notas_alunos.sheet1"
      ],
      "metadata": {
        "id": "R371E8HVjwdP"
      },
      "execution_count": null,
      "outputs": []
    },
    {
      "cell_type": "code",
      "source": [
        "# aba1.row_values(2)"
      ],
      "metadata": {
        "id": "3-5AJCEwjw7N"
      },
      "execution_count": null,
      "outputs": []
    },
    {
      "cell_type": "markdown",
      "source": [
        "2... Instalando a *biblioteca Matplotlib* para criação de gráficos e visualizações de dados em geral. Isso facilitará nossa visualização dos dados dento do Colab."
      ],
      "metadata": {
        "id": "y_hr4quej3cb"
      }
    },
    {
      "cell_type": "code",
      "source": [
        "# pip install matplotlib"
      ],
      "metadata": {
        "id": "3XSHwWkCj4Cp"
      },
      "execution_count": null,
      "outputs": []
    }
  ]
}